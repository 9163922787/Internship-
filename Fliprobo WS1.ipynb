{
 "cells": [
  {
   "cell_type": "markdown",
   "metadata": {},
   "source": [
    "Program for finding the factorial"
   ]
  },
  {
   "cell_type": "code",
   "execution_count": 2,
   "metadata": {},
   "outputs": [
    {
     "name": "stdout",
     "output_type": "stream",
     "text": [
      "Please enter the number for facotrial:5\n",
      "The factorial of entered number is  120\n"
     ]
    }
   ],
   "source": [
    "num=int(input(\"Please enter the number for facotrial:\"))\n",
    "fact=1\n",
    "\n",
    "if num<0:\n",
    "    print(\"Entered number is negetive \")\n",
    "elif num == 0:\n",
    "    print(\"Entered number is zero \")\n",
    "else:\n",
    "    for i in range(1,num+1):\n",
    "        fact=fact*i\n",
    "    print(\"The factorial of entered number is \",fact)\n",
    "\n"
   ]
  },
  {
   "cell_type": "markdown",
   "metadata": {},
   "source": [
    "Program to confirm prime or composite"
   ]
  },
  {
   "cell_type": "code",
   "execution_count": 12,
   "metadata": {},
   "outputs": [
    {
     "name": "stdout",
     "output_type": "stream",
     "text": [
      "Please enter a number :12\n",
      "Entered number is composite number\n"
     ]
    }
   ],
   "source": [
    "num=int(input(\"Please enter a number :\"))\n",
    "flag=False\n",
    "if num<0:\n",
    "    print(\"Entered number is negetive \")\n",
    "elif num == 0:\n",
    "    print(\"Entered number is zero \")\n",
    "else:\n",
    "    for i in range(2,num):\n",
    "        if (num % i)==0:\n",
    "            flag=True\n",
    "            break\n",
    "\n",
    "if flag:\n",
    "    print(\"Entered number is composite number\")\n",
    "else:\n",
    "    print(\"Entered number prime number \")"
   ]
  },
  {
   "cell_type": "markdown",
   "metadata": {},
   "source": [
    "Given String palindrome or not"
   ]
  },
  {
   "cell_type": "code",
   "execution_count": 8,
   "metadata": {},
   "outputs": [
    {
     "name": "stdout",
     "output_type": "stream",
     "text": [
      "Enter a stringfaf\n",
      "Entered string is plaindrome\n"
     ]
    }
   ],
   "source": [
    "st=str(input(\"Enter a string\"))\n",
    "st\n",
    "num=int(len(st))\n",
    "if (num <1 ):\n",
    "    print(\"Please enter any string with more than 1 character \")\n",
    "else:\n",
    "    st=st.casefold()\n",
    "    st_r= reversed(st)\n",
    "    if list(st)==list(st_r):\n",
    "        print(\"Entered string is palindrome\")\n",
    "    else:\n",
    "        print(\"Entered string is not palindrome\")\n"
   ]
  },
  {
   "cell_type": "markdown",
   "metadata": {},
   "source": [
    "Third side of right angled tringle when two sides given"
   ]
  },
  {
   "cell_type": "code",
   "execution_count": 15,
   "metadata": {},
   "outputs": [
    {
     "name": "stdout",
     "output_type": "stream",
     "text": [
      "Enter the first side length5\n",
      "Enter the second side length5\n",
      "The length of third side is  7.0710678118654755\n"
     ]
    }
   ],
   "source": [
    "import math\n",
    "side1=int(input(\"Enter the first side length\"))\n",
    "side2=int(input(\"Enter the second side length\"))\n",
    "\n",
    "side3=side1*side1+side2*side2\n",
    "side3=math.sqrt(side3)\n",
    "print(\"The length of third side is \",side3)"
   ]
  },
  {
   "cell_type": "markdown",
   "metadata": {},
   "source": [
    "Frequency of each character in given string\n"
   ]
  },
  {
   "cell_type": "code",
   "execution_count": 30,
   "metadata": {},
   "outputs": [
    {
     "name": "stdout",
     "output_type": "stream",
     "text": [
      "Enter a stringsssssssfffgggjjjl\n",
      "s- 7\n",
      "f- 3\n",
      "g- 3\n",
      "j- 3\n",
      "l- 1\n"
     ]
    }
   ],
   "source": [
    "st=input(\"Enter a string\")\n",
    "\n",
    "for i in range(len(st)):\n",
    "    if len(st)==0:\n",
    "        break;\n",
    "    ch=st[0]\n",
    "    count=1\n",
    "\n",
    "    print(ch+ \"-\", st.count(ch))\n",
    "    st=st.replace(ch,'').strip()"
   ]
  }
 ],
 "metadata": {
  "kernelspec": {
   "display_name": "Python 3 (ipykernel)",
   "language": "python",
   "name": "python3"
  },
  "language_info": {
   "codemirror_mode": {
    "name": "ipython",
    "version": 3
   },
   "file_extension": ".py",
   "mimetype": "text/x-python",
   "name": "python",
   "nbconvert_exporter": "python",
   "pygments_lexer": "ipython3",
   "version": "3.7.1"
  }
 },
 "nbformat": 4,
 "nbformat_minor": 2
}
