{
 "cells": [
  {
   "cell_type": "code",
   "execution_count": 327,
   "id": "ac44a3a1",
   "metadata": {},
   "outputs": [],
   "source": [
    "import pandas as pd\n",
    "import numpy as np\n",
    "import matplotlib.pyplot as plt\n",
    "import seaborn as sns\n",
    "import warnings\n",
    "warnings.filterwarnings(\"ignore\")"
   ]
  },
  {
   "cell_type": "code",
   "execution_count": 328,
   "id": "515e1de7",
   "metadata": {},
   "outputs": [
    {
     "data": {
      "text/html": [
       "<div>\n",
       "<style scoped>\n",
       "    .dataframe tbody tr th:only-of-type {\n",
       "        vertical-align: middle;\n",
       "    }\n",
       "\n",
       "    .dataframe tbody tr th {\n",
       "        vertical-align: top;\n",
       "    }\n",
       "\n",
       "    .dataframe thead th {\n",
       "        text-align: right;\n",
       "    }\n",
       "</style>\n",
       "<table border=\"1\" class=\"dataframe\">\n",
       "  <thead>\n",
       "    <tr style=\"text-align: right;\">\n",
       "      <th></th>\n",
       "      <th>Unnamed: 0</th>\n",
       "      <th>manufactured</th>\n",
       "      <th>brand</th>\n",
       "      <th>varient</th>\n",
       "      <th>owner</th>\n",
       "      <th>fuel</th>\n",
       "      <th>type</th>\n",
       "      <th>kms</th>\n",
       "      <th>price</th>\n",
       "      <th>city</th>\n",
       "    </tr>\n",
       "  </thead>\n",
       "  <tbody>\n",
       "    <tr>\n",
       "      <th>0</th>\n",
       "      <td>0</td>\n",
       "      <td>2012</td>\n",
       "      <td>Maruti</td>\n",
       "      <td>['Swift', 'Dzire']</td>\n",
       "      <td>1st Owner</td>\n",
       "      <td>Diesel</td>\n",
       "      <td>Manual</td>\n",
       "      <td>1,18,117 km</td>\n",
       "      <td>316399</td>\n",
       "      <td>New Delhi</td>\n",
       "    </tr>\n",
       "    <tr>\n",
       "      <th>1</th>\n",
       "      <td>1</td>\n",
       "      <td>2013</td>\n",
       "      <td>Maruti</td>\n",
       "      <td>['Swift']</td>\n",
       "      <td>1st Owner</td>\n",
       "      <td>Diesel</td>\n",
       "      <td>Manual</td>\n",
       "      <td>1,14,506 km</td>\n",
       "      <td>341599</td>\n",
       "      <td>New Delhi</td>\n",
       "    </tr>\n",
       "    <tr>\n",
       "      <th>2</th>\n",
       "      <td>2</td>\n",
       "      <td>2014</td>\n",
       "      <td>Maruti</td>\n",
       "      <td>['Ritz']</td>\n",
       "      <td>1st Owner</td>\n",
       "      <td>Diesel</td>\n",
       "      <td>Manual</td>\n",
       "      <td>43,382 km</td>\n",
       "      <td>344199</td>\n",
       "      <td>New Delhi</td>\n",
       "    </tr>\n",
       "    <tr>\n",
       "      <th>3</th>\n",
       "      <td>3</td>\n",
       "      <td>2013</td>\n",
       "      <td>Hyundai</td>\n",
       "      <td>['i20']</td>\n",
       "      <td>1st Owner</td>\n",
       "      <td>Diesel</td>\n",
       "      <td>Manual</td>\n",
       "      <td>64,361 km</td>\n",
       "      <td>355799</td>\n",
       "      <td>New Delhi</td>\n",
       "    </tr>\n",
       "    <tr>\n",
       "      <th>4</th>\n",
       "      <td>4</td>\n",
       "      <td>2014</td>\n",
       "      <td>Maruti</td>\n",
       "      <td>['Swift']</td>\n",
       "      <td>1st Owner</td>\n",
       "      <td>Petrol</td>\n",
       "      <td>Manual</td>\n",
       "      <td>1,07,206 km</td>\n",
       "      <td>401599</td>\n",
       "      <td>New Delhi</td>\n",
       "    </tr>\n",
       "  </tbody>\n",
       "</table>\n",
       "</div>"
      ],
      "text/plain": [
       "   Unnamed: 0  manufactured    brand             varient      owner    fuel  \\\n",
       "0           0          2012   Maruti  ['Swift', 'Dzire']  1st Owner  Diesel   \n",
       "1           1          2013   Maruti           ['Swift']  1st Owner  Diesel   \n",
       "2           2          2014   Maruti            ['Ritz']  1st Owner  Diesel   \n",
       "3           3          2013  Hyundai             ['i20']  1st Owner  Diesel   \n",
       "4           4          2014   Maruti           ['Swift']  1st Owner  Petrol   \n",
       "\n",
       "     type          kms   price       city  \n",
       "0  Manual  1,18,117 km  316399  New Delhi  \n",
       "1  Manual  1,14,506 km  341599  New Delhi  \n",
       "2  Manual    43,382 km  344199  New Delhi  \n",
       "3  Manual    64,361 km  355799  New Delhi  \n",
       "4  Manual  1,07,206 km  401599  New Delhi  "
      ]
     },
     "execution_count": 328,
     "metadata": {},
     "output_type": "execute_result"
    }
   ],
   "source": [
    "#loading the dataset\n",
    "df=pd.read_csv('Used_car_price.csv')\n",
    "df.head()"
   ]
  },
  {
   "cell_type": "markdown",
   "id": "1bab3682",
   "metadata": {},
   "source": [
    "Varient column is saved as list item"
   ]
  },
  {
   "cell_type": "code",
   "execution_count": 329,
   "id": "bb709e51",
   "metadata": {},
   "outputs": [
    {
     "data": {
      "text/plain": [
       "(5387, 10)"
      ]
     },
     "execution_count": 329,
     "metadata": {},
     "output_type": "execute_result"
    }
   ],
   "source": [
    "#checking the voulume of data\n",
    "df.shape"
   ]
  },
  {
   "cell_type": "code",
   "execution_count": 330,
   "id": "f2355286",
   "metadata": {},
   "outputs": [
    {
     "name": "stdout",
     "output_type": "stream",
     "text": [
      "<class 'pandas.core.frame.DataFrame'>\n",
      "RangeIndex: 5387 entries, 0 to 5386\n",
      "Data columns (total 10 columns):\n",
      " #   Column        Non-Null Count  Dtype \n",
      "---  ------        --------------  ----- \n",
      " 0   Unnamed: 0    5387 non-null   int64 \n",
      " 1   manufactured  5387 non-null   int64 \n",
      " 2   brand         5387 non-null   object\n",
      " 3   varient       5387 non-null   object\n",
      " 4   owner         5387 non-null   object\n",
      " 5   fuel          5387 non-null   object\n",
      " 6   type          5192 non-null   object\n",
      " 7   kms           5387 non-null   object\n",
      " 8   price         5387 non-null   object\n",
      " 9   city          5387 non-null   object\n",
      "dtypes: int64(2), object(8)\n",
      "memory usage: 421.0+ KB\n"
     ]
    }
   ],
   "source": [
    "#checking the data types\n",
    "df.info()"
   ]
  },
  {
   "cell_type": "markdown",
   "id": "f3d47061",
   "metadata": {},
   "source": [
    "(i) Found the Kms columns in string need to convert in number\n",
    "\n",
    "(ii) The target variable is numerical and continuous so this is a regression problem"
   ]
  },
  {
   "cell_type": "code",
   "execution_count": 331,
   "id": "f3d7a162",
   "metadata": {},
   "outputs": [],
   "source": [
    "df[\"varient\"]=df[\"varient\"].str.replace('[','').str.replace(']','').str.replace(',','').str.replace(\"'\",\"\")\n"
   ]
  },
  {
   "cell_type": "code",
   "execution_count": 332,
   "id": "5c76d9ba",
   "metadata": {},
   "outputs": [],
   "source": [
    "df[\"price\"]=df[\"price\"].str.replace(',','')\n"
   ]
  },
  {
   "cell_type": "code",
   "execution_count": 333,
   "id": "b46c7601",
   "metadata": {},
   "outputs": [],
   "source": [
    "df[\"kms\"]=df[\"kms\"].str.replace('kms','').str.replace(',','').str.replace('km','')"
   ]
  },
  {
   "cell_type": "code",
   "execution_count": 334,
   "id": "4ab711ea",
   "metadata": {},
   "outputs": [],
   "source": [
    "df[\"kms\"]=df[\"kms\"].astype(int)"
   ]
  },
  {
   "cell_type": "code",
   "execution_count": 335,
   "id": "d9fe76a3",
   "metadata": {},
   "outputs": [],
   "source": [
    "df[\"price\"]=df[\"price\"].astype(int)"
   ]
  },
  {
   "cell_type": "code",
   "execution_count": 336,
   "id": "3a402279",
   "metadata": {},
   "outputs": [
    {
     "data": {
      "text/html": [
       "<div>\n",
       "<style scoped>\n",
       "    .dataframe tbody tr th:only-of-type {\n",
       "        vertical-align: middle;\n",
       "    }\n",
       "\n",
       "    .dataframe tbody tr th {\n",
       "        vertical-align: top;\n",
       "    }\n",
       "\n",
       "    .dataframe thead th {\n",
       "        text-align: right;\n",
       "    }\n",
       "</style>\n",
       "<table border=\"1\" class=\"dataframe\">\n",
       "  <thead>\n",
       "    <tr style=\"text-align: right;\">\n",
       "      <th></th>\n",
       "      <th>Unnamed: 0</th>\n",
       "      <th>manufactured</th>\n",
       "      <th>brand</th>\n",
       "      <th>varient</th>\n",
       "      <th>owner</th>\n",
       "      <th>fuel</th>\n",
       "      <th>type</th>\n",
       "      <th>kms</th>\n",
       "      <th>price</th>\n",
       "      <th>city</th>\n",
       "    </tr>\n",
       "  </thead>\n",
       "  <tbody>\n",
       "    <tr>\n",
       "      <th>0</th>\n",
       "      <td>0</td>\n",
       "      <td>2012</td>\n",
       "      <td>Maruti</td>\n",
       "      <td>Swift Dzire</td>\n",
       "      <td>1st Owner</td>\n",
       "      <td>Diesel</td>\n",
       "      <td>Manual</td>\n",
       "      <td>118117</td>\n",
       "      <td>316399</td>\n",
       "      <td>New Delhi</td>\n",
       "    </tr>\n",
       "    <tr>\n",
       "      <th>1</th>\n",
       "      <td>1</td>\n",
       "      <td>2013</td>\n",
       "      <td>Maruti</td>\n",
       "      <td>Swift</td>\n",
       "      <td>1st Owner</td>\n",
       "      <td>Diesel</td>\n",
       "      <td>Manual</td>\n",
       "      <td>114506</td>\n",
       "      <td>341599</td>\n",
       "      <td>New Delhi</td>\n",
       "    </tr>\n",
       "    <tr>\n",
       "      <th>2</th>\n",
       "      <td>2</td>\n",
       "      <td>2014</td>\n",
       "      <td>Maruti</td>\n",
       "      <td>Ritz</td>\n",
       "      <td>1st Owner</td>\n",
       "      <td>Diesel</td>\n",
       "      <td>Manual</td>\n",
       "      <td>43382</td>\n",
       "      <td>344199</td>\n",
       "      <td>New Delhi</td>\n",
       "    </tr>\n",
       "    <tr>\n",
       "      <th>3</th>\n",
       "      <td>3</td>\n",
       "      <td>2013</td>\n",
       "      <td>Hyundai</td>\n",
       "      <td>i20</td>\n",
       "      <td>1st Owner</td>\n",
       "      <td>Diesel</td>\n",
       "      <td>Manual</td>\n",
       "      <td>64361</td>\n",
       "      <td>355799</td>\n",
       "      <td>New Delhi</td>\n",
       "    </tr>\n",
       "    <tr>\n",
       "      <th>4</th>\n",
       "      <td>4</td>\n",
       "      <td>2014</td>\n",
       "      <td>Maruti</td>\n",
       "      <td>Swift</td>\n",
       "      <td>1st Owner</td>\n",
       "      <td>Petrol</td>\n",
       "      <td>Manual</td>\n",
       "      <td>107206</td>\n",
       "      <td>401599</td>\n",
       "      <td>New Delhi</td>\n",
       "    </tr>\n",
       "  </tbody>\n",
       "</table>\n",
       "</div>"
      ],
      "text/plain": [
       "   Unnamed: 0  manufactured    brand      varient      owner    fuel    type  \\\n",
       "0           0          2012   Maruti  Swift Dzire  1st Owner  Diesel  Manual   \n",
       "1           1          2013   Maruti        Swift  1st Owner  Diesel  Manual   \n",
       "2           2          2014   Maruti         Ritz  1st Owner  Diesel  Manual   \n",
       "3           3          2013  Hyundai          i20  1st Owner  Diesel  Manual   \n",
       "4           4          2014   Maruti        Swift  1st Owner  Petrol  Manual   \n",
       "\n",
       "      kms   price       city  \n",
       "0  118117  316399  New Delhi  \n",
       "1  114506  341599  New Delhi  \n",
       "2   43382  344199  New Delhi  \n",
       "3   64361  355799  New Delhi  \n",
       "4  107206  401599  New Delhi  "
      ]
     },
     "execution_count": 336,
     "metadata": {},
     "output_type": "execute_result"
    }
   ],
   "source": [
    "df.head()"
   ]
  },
  {
   "cell_type": "code",
   "execution_count": 337,
   "id": "8577ab32",
   "metadata": {},
   "outputs": [],
   "source": [
    "df.drop('Unnamed: 0',axis=1,inplace=True)"
   ]
  },
  {
   "cell_type": "code",
   "execution_count": 338,
   "id": "68bf3eea",
   "metadata": {},
   "outputs": [
    {
     "data": {
      "text/html": [
       "<div>\n",
       "<style scoped>\n",
       "    .dataframe tbody tr th:only-of-type {\n",
       "        vertical-align: middle;\n",
       "    }\n",
       "\n",
       "    .dataframe tbody tr th {\n",
       "        vertical-align: top;\n",
       "    }\n",
       "\n",
       "    .dataframe thead th {\n",
       "        text-align: right;\n",
       "    }\n",
       "</style>\n",
       "<table border=\"1\" class=\"dataframe\">\n",
       "  <thead>\n",
       "    <tr style=\"text-align: right;\">\n",
       "      <th></th>\n",
       "      <th>manufactured</th>\n",
       "      <th>brand</th>\n",
       "      <th>varient</th>\n",
       "      <th>owner</th>\n",
       "      <th>fuel</th>\n",
       "      <th>type</th>\n",
       "      <th>kms</th>\n",
       "      <th>price</th>\n",
       "      <th>city</th>\n",
       "    </tr>\n",
       "  </thead>\n",
       "  <tbody>\n",
       "    <tr>\n",
       "      <th>0</th>\n",
       "      <td>2012</td>\n",
       "      <td>Maruti</td>\n",
       "      <td>Swift Dzire</td>\n",
       "      <td>1st Owner</td>\n",
       "      <td>Diesel</td>\n",
       "      <td>Manual</td>\n",
       "      <td>118117</td>\n",
       "      <td>316399</td>\n",
       "      <td>New Delhi</td>\n",
       "    </tr>\n",
       "    <tr>\n",
       "      <th>1</th>\n",
       "      <td>2013</td>\n",
       "      <td>Maruti</td>\n",
       "      <td>Swift</td>\n",
       "      <td>1st Owner</td>\n",
       "      <td>Diesel</td>\n",
       "      <td>Manual</td>\n",
       "      <td>114506</td>\n",
       "      <td>341599</td>\n",
       "      <td>New Delhi</td>\n",
       "    </tr>\n",
       "    <tr>\n",
       "      <th>2</th>\n",
       "      <td>2014</td>\n",
       "      <td>Maruti</td>\n",
       "      <td>Ritz</td>\n",
       "      <td>1st Owner</td>\n",
       "      <td>Diesel</td>\n",
       "      <td>Manual</td>\n",
       "      <td>43382</td>\n",
       "      <td>344199</td>\n",
       "      <td>New Delhi</td>\n",
       "    </tr>\n",
       "    <tr>\n",
       "      <th>3</th>\n",
       "      <td>2013</td>\n",
       "      <td>Hyundai</td>\n",
       "      <td>i20</td>\n",
       "      <td>1st Owner</td>\n",
       "      <td>Diesel</td>\n",
       "      <td>Manual</td>\n",
       "      <td>64361</td>\n",
       "      <td>355799</td>\n",
       "      <td>New Delhi</td>\n",
       "    </tr>\n",
       "    <tr>\n",
       "      <th>4</th>\n",
       "      <td>2014</td>\n",
       "      <td>Maruti</td>\n",
       "      <td>Swift</td>\n",
       "      <td>1st Owner</td>\n",
       "      <td>Petrol</td>\n",
       "      <td>Manual</td>\n",
       "      <td>107206</td>\n",
       "      <td>401599</td>\n",
       "      <td>New Delhi</td>\n",
       "    </tr>\n",
       "  </tbody>\n",
       "</table>\n",
       "</div>"
      ],
      "text/plain": [
       "   manufactured    brand      varient      owner    fuel    type     kms  \\\n",
       "0          2012   Maruti  Swift Dzire  1st Owner  Diesel  Manual  118117   \n",
       "1          2013   Maruti        Swift  1st Owner  Diesel  Manual  114506   \n",
       "2          2014   Maruti         Ritz  1st Owner  Diesel  Manual   43382   \n",
       "3          2013  Hyundai          i20  1st Owner  Diesel  Manual   64361   \n",
       "4          2014   Maruti        Swift  1st Owner  Petrol  Manual  107206   \n",
       "\n",
       "    price       city  \n",
       "0  316399  New Delhi  \n",
       "1  341599  New Delhi  \n",
       "2  344199  New Delhi  \n",
       "3  355799  New Delhi  \n",
       "4  401599  New Delhi  "
      ]
     },
     "execution_count": 338,
     "metadata": {},
     "output_type": "execute_result"
    }
   ],
   "source": [
    "df.head()"
   ]
  },
  {
   "cell_type": "code",
   "execution_count": 339,
   "id": "7859e3de",
   "metadata": {},
   "outputs": [
    {
     "data": {
      "text/plain": [
       "Maruti           2627\n",
       "Hyundai          1203\n",
       "Honda             346\n",
       "Ford              330\n",
       "Renault           193\n",
       "Toyota            169\n",
       "Volkswagen        112\n",
       "Tata              107\n",
       "Mahindra           91\n",
       "MG                 30\n",
       "Datsun             28\n",
       "BMW                25\n",
       "Skoda              23\n",
       "Nissan             22\n",
       "Jeep               16\n",
       "KIA                15\n",
       "Mercedes-Benz      11\n",
       "Kia                 8\n",
       "Audi                7\n",
       "Chevrolet           7\n",
       "Volvo               4\n",
       "Jaguar              4\n",
       "HYUNDAI             3\n",
       "Ambassador          2\n",
       "Mercedes            1\n",
       "Landrover           1\n",
       "Mitsubishi          1\n",
       "Land                1\n",
       "Name: brand, dtype: int64"
      ]
     },
     "execution_count": 339,
     "metadata": {},
     "output_type": "execute_result"
    }
   ],
   "source": [
    "df['brand'].value_counts()"
   ]
  },
  {
   "cell_type": "code",
   "execution_count": 340,
   "id": "f18f3921",
   "metadata": {},
   "outputs": [
    {
     "data": {
      "text/plain": [
       "Swift                      417\n",
       "Grand i10                  320\n",
       "Baleno                     290\n",
       "Alto 800                   272\n",
       "Ecosport                   246\n",
       "                          ... \n",
       "Manza                        1\n",
       "Freelander 2                 1\n",
       "Indica                       1\n",
       "Indigo                       1\n",
       "Rover Range Rover Velar      1\n",
       "Name: varient, Length: 163, dtype: int64"
      ]
     },
     "execution_count": 340,
     "metadata": {},
     "output_type": "execute_result"
    }
   ],
   "source": [
    "df['varient'].value_counts()"
   ]
  },
  {
   "cell_type": "code",
   "execution_count": 341,
   "id": "2c5a352f",
   "metadata": {},
   "outputs": [
    {
     "data": {
      "text/plain": [
       "1st Owner       3811\n",
       "2nd Owner        804\n",
       "-                491\n",
       "First Owner      163\n",
       "3rd Owner         66\n",
       "Second Owner      40\n",
       "4th Owner          6\n",
       "Third Owner        6\n",
       "Name: owner, dtype: int64"
      ]
     },
     "execution_count": 341,
     "metadata": {},
     "output_type": "execute_result"
    }
   ],
   "source": [
    "df['owner'].value_counts()"
   ]
  },
  {
   "cell_type": "code",
   "execution_count": 342,
   "id": "4dd5aafd",
   "metadata": {},
   "outputs": [],
   "source": [
    "df[\"owner\"]=df[\"owner\"].str.replace('First','1st').str.replace('Second','2nd').str.replace('Third','3rd')"
   ]
  },
  {
   "cell_type": "code",
   "execution_count": 343,
   "id": "7fde4a29",
   "metadata": {},
   "outputs": [],
   "source": [
    "df[\"brand\"]=df[\"brand\"].str.replace('HYUNDAI','Hyundai')"
   ]
  },
  {
   "cell_type": "code",
   "execution_count": 344,
   "id": "aa951eea",
   "metadata": {},
   "outputs": [
    {
     "data": {
      "text/plain": [
       "1st Owner    3974\n",
       "2nd Owner     844\n",
       "-             491\n",
       "3rd Owner      72\n",
       "4th Owner       6\n",
       "Name: owner, dtype: int64"
      ]
     },
     "execution_count": 344,
     "metadata": {},
     "output_type": "execute_result"
    }
   ],
   "source": [
    "df['owner'].value_counts()"
   ]
  },
  {
   "cell_type": "code",
   "execution_count": 345,
   "id": "4706724d",
   "metadata": {},
   "outputs": [
    {
     "data": {
      "text/plain": [
       "Petrol          3686\n",
       "Diesel          1660\n",
       "Petrol + CNG      32\n",
       "CNG                8\n",
       "Petrol + LPG       1\n",
       "Name: fuel, dtype: int64"
      ]
     },
     "execution_count": 345,
     "metadata": {},
     "output_type": "execute_result"
    }
   ],
   "source": [
    "df['fuel'].value_counts()"
   ]
  },
  {
   "cell_type": "code",
   "execution_count": 346,
   "id": "8e983f48",
   "metadata": {},
   "outputs": [
    {
     "data": {
      "text/plain": [
       "Manual       3987\n",
       "manual        593\n",
       "Automatic     505\n",
       "automatic     107\n",
       "Name: type, dtype: int64"
      ]
     },
     "execution_count": 346,
     "metadata": {},
     "output_type": "execute_result"
    }
   ],
   "source": [
    "df['type'].value_counts()"
   ]
  },
  {
   "cell_type": "code",
   "execution_count": 347,
   "id": "039b8a24",
   "metadata": {},
   "outputs": [],
   "source": [
    "df[\"type\"]=df[\"type\"].str.replace('manual','Manual').str.replace('automatic','Automatic')"
   ]
  },
  {
   "cell_type": "code",
   "execution_count": 348,
   "id": "d83aece3",
   "metadata": {},
   "outputs": [
    {
     "data": {
      "text/plain": [
       "Manual       4580\n",
       "Automatic     612\n",
       "Name: type, dtype: int64"
      ]
     },
     "execution_count": 348,
     "metadata": {},
     "output_type": "execute_result"
    }
   ],
   "source": [
    "df['type'].value_counts()"
   ]
  },
  {
   "cell_type": "code",
   "execution_count": 349,
   "id": "56aac65a",
   "metadata": {},
   "outputs": [
    {
     "data": {
      "text/plain": [
       "Mumbai       1000\n",
       "New Delhi     500\n",
       "Gurgaon       500\n",
       "Pune          500\n",
       "Noida         500\n",
       "Chennai       488\n",
       "Bengaluru     444\n",
       "Ahmedabad     383\n",
       "Kolkata       271\n",
       "Hyderabad     101\n",
       "chennai        80\n",
       "kolkata        80\n",
       "jaipur         60\n",
       "new-delhi      60\n",
       "mumbai         60\n",
       "ahmedabad      60\n",
       "hyderabad      60\n",
       "gurgaon        60\n",
       "delhi-ncr      60\n",
       "bangalore      60\n",
       "noida          60\n",
       "Name: city, dtype: int64"
      ]
     },
     "execution_count": 349,
     "metadata": {},
     "output_type": "execute_result"
    }
   ],
   "source": [
    "df['city'].value_counts()"
   ]
  },
  {
   "cell_type": "code",
   "execution_count": 350,
   "id": "3279fbec",
   "metadata": {},
   "outputs": [],
   "source": [
    "df[\"city\"]=df[\"city\"].str.replace('new-delhi','New Delhi')\n",
    "df[\"city\"]=df[\"city\"].str.replace('kolkata','Kolkata')\n",
    "df[\"city\"]=df[\"city\"].str.replace('bangaluru','Bengaluru')\n",
    "df[\"city\"]=df[\"city\"].str.replace('bangalore','Bengaluru')\n",
    "df[\"city\"]=df[\"city\"].str.replace('delhi-ncr','New Delhi')\n",
    "df[\"city\"]=df[\"city\"].str.replace('noida','Noida')\n",
    "df[\"city\"]=df[\"city\"].str.replace('hyderabad','Hyderabad')\n",
    "df[\"city\"]=df[\"city\"].str.replace('chennai','Chennai')\n",
    "df[\"city\"]=df[\"city\"].str.replace('mumbai','Mumbai')\n",
    "df[\"city\"]=df[\"city\"].str.replace('ahmedabad','Ahmedabad')\n",
    "df[\"city\"]=df[\"city\"].str.replace('gurgaon','Gurgaon')\n",
    "df[\"city\"]=df[\"city\"].str.replace('jaipur','Jaipur')"
   ]
  },
  {
   "cell_type": "code",
   "execution_count": 351,
   "id": "ea189c92",
   "metadata": {},
   "outputs": [
    {
     "data": {
      "text/plain": [
       "Mumbai       1060\n",
       "New Delhi     620\n",
       "Chennai       568\n",
       "Noida         560\n",
       "Gurgaon       560\n",
       "Bengaluru     504\n",
       "Pune          500\n",
       "Ahmedabad     443\n",
       "Kolkata       351\n",
       "Hyderabad     161\n",
       "Jaipur         60\n",
       "Name: city, dtype: int64"
      ]
     },
     "execution_count": 351,
     "metadata": {},
     "output_type": "execute_result"
    }
   ],
   "source": [
    "df['city'].value_counts()"
   ]
  },
  {
   "cell_type": "code",
   "execution_count": 352,
   "id": "7fa58dab",
   "metadata": {},
   "outputs": [],
   "source": [
    "df['owner'] = df['owner'].replace('-', np.NaN)"
   ]
  },
  {
   "cell_type": "code",
   "execution_count": 353,
   "id": "13c2e395",
   "metadata": {},
   "outputs": [
    {
     "data": {
      "text/plain": [
       "manufactured      0\n",
       "brand             0\n",
       "varient           0\n",
       "owner           491\n",
       "fuel              0\n",
       "type            195\n",
       "kms               0\n",
       "price             0\n",
       "city              0\n",
       "dtype: int64"
      ]
     },
     "execution_count": 353,
     "metadata": {},
     "output_type": "execute_result"
    }
   ],
   "source": [
    "df.isnull().sum()"
   ]
  },
  {
   "cell_type": "code",
   "execution_count": 354,
   "id": "b28f2d0b",
   "metadata": {},
   "outputs": [],
   "source": [
    "df1=df.loc[df['owner'].isnull() == True]"
   ]
  },
  {
   "cell_type": "code",
   "execution_count": 355,
   "id": "883ddf97",
   "metadata": {},
   "outputs": [
    {
     "name": "stdout",
     "output_type": "stream",
     "text": [
      "<class 'pandas.core.frame.DataFrame'>\n",
      "Int64Index: 491 entries, 4687 to 5386\n",
      "Data columns (total 9 columns):\n",
      " #   Column        Non-Null Count  Dtype \n",
      "---  ------        --------------  ----- \n",
      " 0   manufactured  491 non-null    int64 \n",
      " 1   brand         491 non-null    object\n",
      " 2   varient       491 non-null    object\n",
      " 3   owner         0 non-null      object\n",
      " 4   fuel          491 non-null    object\n",
      " 5   type          491 non-null    object\n",
      " 6   kms           491 non-null    int32 \n",
      " 7   price         491 non-null    int32 \n",
      " 8   city          491 non-null    object\n",
      "dtypes: int32(2), int64(1), object(6)\n",
      "memory usage: 34.5+ KB\n"
     ]
    }
   ],
   "source": [
    "df1.info()"
   ]
  },
  {
   "cell_type": "code",
   "execution_count": 356,
   "id": "17631683",
   "metadata": {},
   "outputs": [
    {
     "data": {
      "text/plain": [
       "<AxesSubplot:xlabel='manufactured', ylabel='count'>"
      ]
     },
     "execution_count": 356,
     "metadata": {},
     "output_type": "execute_result"
    },
    {
     "data": {
      "image/png": "[encoded data removed]",
      "text/plain": [
       "<Figure size 720x360 with 1 Axes>"
      ]
     },
     "metadata": {
      "needs_background": "light"
     },
     "output_type": "display_data"
    }
   ],
   "source": [
    "plt.figure(figsize=(10,5))\n",
    "sns.countplot(x='manufactured',data=df,hue='owner')"
   ]
  },
  {
   "cell_type": "code",
   "execution_count": null,
   "id": "c7fbaac7",
   "metadata": {},
   "outputs": [],
   "source": []
  },
  {
   "cell_type": "code",
   "execution_count": 357,
   "id": "594dd4ca",
   "metadata": {},
   "outputs": [],
   "source": [
    "cols=['owner','type']\n",
    "df[cols]=df[cols].fillna(df.mode().iloc[0])"
   ]
  },
  {
   "cell_type": "code",
   "execution_count": 358,
   "id": "82310047",
   "metadata": {},
   "outputs": [
    {
     "data": {
      "text/plain": [
       "manufactured    0\n",
       "brand           0\n",
       "varient         0\n",
       "owner           0\n",
       "fuel            0\n",
       "type            0\n",
       "kms             0\n",
       "price           0\n",
       "city            0\n",
       "dtype: int64"
      ]
     },
     "execution_count": 358,
     "metadata": {},
     "output_type": "execute_result"
    }
   ],
   "source": [
    "df.isnull().sum()"
   ]
  },
  {
   "cell_type": "markdown",
   "id": "20aba9c0",
   "metadata": {},
   "source": [
    "# Exploratory Data Analysis"
   ]
  },
  {
   "cell_type": "markdown",
   "id": "fe90d1e8",
   "metadata": {},
   "source": [
    "Univariate Data Analysis"
   ]
  },
  {
   "cell_type": "code",
   "execution_count": 359,
   "id": "a5d91e3f",
   "metadata": {},
   "outputs": [
    {
     "data": {
      "text/plain": [
       "<AxesSubplot:xlabel='manufactured', ylabel='count'>"
      ]
     },
     "execution_count": 359,
     "metadata": {},
     "output_type": "execute_result"
    },
    {
     "data": {
      "image/png": "[encoded data removed]",
      "text/plain": [
       "<Figure size 720x360 with 1 Axes>"
      ]
     },
     "metadata": {
      "needs_background": "light"
     },
     "output_type": "display_data"
    }
   ],
   "source": [
    "plt.figure(figsize=(10,5))\n",
    "\n",
    "sns.countplot(df['manufactured'])"
   ]
  },
  {
   "cell_type": "markdown",
   "id": "41136f44",
   "metadata": {},
   "source": [
    "(i) Maximum of car listed for sell are of the year 2017 - 2019\n",
    "\n",
    "(ii) There are very less number of cars which are older than 2008"
   ]
  },
  {
   "cell_type": "code",
   "execution_count": 360,
   "id": "f9d45b55",
   "metadata": {},
   "outputs": [
    {
     "data": {
      "text/plain": [
       "[Text(0, 0, 'Maruti'),\n",
       " Text(1, 0, 'Hyundai'),\n",
       " Text(2, 0, 'Honda'),\n",
       " Text(3, 0, 'Ford'),\n",
       " Text(4, 0, 'Volvo'),\n",
       " Text(5, 0, 'Tata'),\n",
       " Text(6, 0, 'Toyota'),\n",
       " Text(7, 0, 'BMW'),\n",
       " Text(8, 0, 'Mahindra'),\n",
       " Text(9, 0, 'Datsun'),\n",
       " Text(10, 0, 'Audi'),\n",
       " Text(11, 0, 'MG'),\n",
       " Text(12, 0, 'Skoda'),\n",
       " Text(13, 0, 'Renault'),\n",
       " Text(14, 0, 'Volkswagen'),\n",
       " Text(15, 0, 'Nissan'),\n",
       " Text(16, 0, 'KIA'),\n",
       " Text(17, 0, 'Jeep'),\n",
       " Text(18, 0, 'Mercedes'),\n",
       " Text(19, 0, 'Landrover'),\n",
       " Text(20, 0, 'Jaguar'),\n",
       " Text(21, 0, 'Kia'),\n",
       " Text(22, 0, 'Chevrolet'),\n",
       " Text(23, 0, 'Mercedes-Benz'),\n",
       " Text(24, 0, 'Mitsubishi'),\n",
       " Text(25, 0, 'Ambassador'),\n",
       " Text(26, 0, 'Land')]"
      ]
     },
     "execution_count": 360,
     "metadata": {},
     "output_type": "execute_result"
    },
    {
     "data": {
      "image/png": "[encoded data removed]",
      "text/plain": [
       "<Figure size 720x360 with 1 Axes>"
      ]
     },
     "metadata": {
      "needs_background": "light"
     },
     "output_type": "display_data"
    }
   ],
   "source": [
    "plt.figure(figsize=(10,5))\n",
    "chart=sns.countplot(x='brand',data=df)\n",
    "chart.set_xticklabels(chart.get_xticklabels(),rotation=90,horizontalalignment='right')"
   ]
  },
  {
   "cell_type": "markdown",
   "id": "b1c7cbe7",
   "metadata": {},
   "source": [
    "(i) More than half of the cars belongs to Maruti Suzuki\n",
    "\n",
    "(ii) In second number the car is Hyundai\n",
    "\n",
    "(iii) Other than Maruti, Hyundai there are number other cars brand which\n",
    "are in visible in sale. They are Honda,Ford,Tata,Toyuta,Renault,Volkswagan,Mahindra.\n",
    "Rest all brand are comparitavely very less in count"
   ]
  },
  {
   "cell_type": "code",
   "execution_count": 361,
   "id": "38048ced",
   "metadata": {},
   "outputs": [
    {
     "data": {
      "text/plain": [
       "[Text(0, 0, 'Swift Dzire'),\n",
       " Text(1, 0, 'Swift'),\n",
       " Text(2, 0, 'Ritz'),\n",
       " Text(3, 0, 'i20'),\n",
       " Text(4, 0, 'City'),\n",
       " Text(5, 0, 'Wagon R 1.0'),\n",
       " Text(6, 0, 'Ciaz'),\n",
       " Text(7, 0, 'Fiesta'),\n",
       " Text(8, 0, 'S60'),\n",
       " Text(9, 0, 'Baleno'),\n",
       " Text(10, 0, 'Tiago'),\n",
       " Text(11, 0, 'Verna'),\n",
       " Text(12, 0, 'Fortuner'),\n",
       " Text(13, 0, 'X3'),\n",
       " Text(14, 0, 'AURA'),\n",
       " Text(15, 0, 'Tucson New'),\n",
       " Text(16, 0, '3 Series'),\n",
       " Text(17, 0, 'TUV300'),\n",
       " Text(18, 0, 'S Cross'),\n",
       " Text(19, 0, 'New Wagon-R'),\n",
       " Text(20, 0, 'Xcent'),\n",
       " Text(21, 0, 'Bolero'),\n",
       " Text(22, 0, 'IGNIS'),\n",
       " Text(23, 0, 'New Figo'),\n",
       " Text(24, 0, 'i10'),\n",
       " Text(25, 0, 'Creta'),\n",
       " Text(26, 0, 'Elite i20'),\n",
       " Text(27, 0, 'Redi Go'),\n",
       " Text(28, 0, 'VENUE'),\n",
       " Text(29, 0, 'Ecosport'),\n",
       " Text(30, 0, 'Dzire'),\n",
       " Text(31, 0, 'Q3'),\n",
       " Text(32, 0, 'Glanza'),\n",
       " Text(33, 0, 'Grand i10'),\n",
       " Text(34, 0, 'HECTOR'),\n",
       " Text(35, 0, 'Innova'),\n",
       " Text(36, 0, 'Vitara Brezza'),\n",
       " Text(37, 0, 'Amaze'),\n",
       " Text(38, 0, 'Ertiga'),\n",
       " Text(39, 0, 'Superb'),\n",
       " Text(40, 0, 'WR-V'),\n",
       " Text(41, 0, 'Jazz'),\n",
       " Text(42, 0, 'Kwid'),\n",
       " Text(43, 0, 'Figo Aspire'),\n",
       " Text(44, 0, 'YARIS'),\n",
       " Text(45, 0, 'Corolla Altis'),\n",
       " Text(46, 0, 'Brio'),\n",
       " Text(47, 0, 'Duster'),\n",
       " Text(48, 0, 'S PRESSO'),\n",
       " Text(49, 0, 'Etios Liva'),\n",
       " Text(50, 0, 'Alto K10'),\n",
       " Text(51, 0, 'Etios'),\n",
       " Text(52, 0, 'Polo'),\n",
       " Text(53, 0, 'Alto'),\n",
       " Text(54, 0, 'Alto 800'),\n",
       " Text(55, 0, 'XUV500'),\n",
       " Text(56, 0, '5 Series'),\n",
       " Text(57, 0, 'Celerio'),\n",
       " Text(58, 0, 'Eon'),\n",
       " Text(59, 0, 'Vento'),\n",
       " Text(60, 0, 'GRAND I10 NIOS'),\n",
       " Text(61, 0, 'Figo'),\n",
       " Text(62, 0, 'Mobilio'),\n",
       " Text(63, 0, 'NEW I20'),\n",
       " Text(64, 0, 'Scorpio'),\n",
       " Text(65, 0, 'TIGOR'),\n",
       " Text(66, 0, 'Terrano'),\n",
       " Text(67, 0, 'FREESTYLE'),\n",
       " Text(68, 0, 'NEXON'),\n",
       " Text(69, 0, 'X1'),\n",
       " Text(70, 0, 'Thar'),\n",
       " Text(71, 0, 'XUV 3OO'),\n",
       " Text(72, 0, 'Innova Crysta'),\n",
       " Text(73, 0, 'CRV'),\n",
       " Text(74, 0, 'Civic'),\n",
       " Text(75, 0, 'XL6'),\n",
       " Text(76, 0, 'i20 Active'),\n",
       " Text(77, 0, 'SELTOS'),\n",
       " Text(78, 0, 'BR-V'),\n",
       " Text(79, 0, 'Hexa'),\n",
       " Text(80, 0, 'Compass'),\n",
       " Text(81, 0, 'Rapid'),\n",
       " Text(82, 0, 'Ameo'),\n",
       " Text(83, 0, 'MARAZZO'),\n",
       " Text(84, 0, 'Eeco'),\n",
       " Text(85, 0, 'Passat'),\n",
       " Text(86, 0, 'NEW SANTRO'),\n",
       " Text(87, 0, 'OMNI E'),\n",
       " Text(88, 0, 'A Star'),\n",
       " Text(89, 0, 'TRIBER'),\n",
       " Text(90, 0, 'Wagon R Stingray'),\n",
       " Text(91, 0, 'Santa Fe'),\n",
       " Text(92, 0, 'SX4'),\n",
       " Text(93, 0, 'Benz E Class'),\n",
       " Text(94, 0, 'Jetta'),\n",
       " Text(95, 0, 'Wagon R'),\n",
       " Text(96, 0, 'Nano'),\n",
       " Text(97, 0, 'Harrier'),\n",
       " Text(98, 0, 'New Elantra'),\n",
       " Text(99, 0, 'Camry'),\n",
       " Text(100, 0, 'Micra'),\n",
       " Text(101, 0, 'Freelander 2'),\n",
       " Text(102, 0, 'XF'),\n",
       " Text(103, 0, 'Zen Estilo'),\n",
       " Text(104, 0, 'Santro Xing'),\n",
       " Text(105, 0, 'A3'),\n",
       " Text(106, 0, 'Kuv100'),\n",
       " Text(107, 0, 'Captur'),\n",
       " Text(108, 0, 'NUVOSPORT'),\n",
       " Text(109, 0, 'Lodgy'),\n",
       " Text(110, 0, 'Celerio X'),\n",
       " Text(111, 0, 'Micra Active'),\n",
       " Text(112, 0, 'Kicks'),\n",
       " Text(113, 0, 'S-Presso'),\n",
       " Text(114, 0, 'Quanto'),\n",
       " Text(115, 0, 'KWID'),\n",
       " Text(116, 0, 'Seltos'),\n",
       " Text(117, 0, 'Sail Hatchback'),\n",
       " Text(118, 0, 'New C-Class'),\n",
       " Text(119, 0, 'Aura'),\n",
       " Text(120, 0, 'Beat'),\n",
       " Text(121, 0, 'Venue'),\n",
       " Text(122, 0, 'Ignis'),\n",
       " Text(123, 0, 'Marazzo'),\n",
       " Text(124, 0, 'Sonet'),\n",
       " Text(125, 0, 'E-Class'),\n",
       " Text(126, 0, 'Grand i10 Nios'),\n",
       " Text(127, 0, 'Hector Plus'),\n",
       " Text(128, 0, 'TUV 300'),\n",
       " Text(129, 0, 'Altroz'),\n",
       " Text(130, 0, 'Cruze'),\n",
       " Text(131, 0, 'Hector'),\n",
       " Text(132, 0, 'Pajero'),\n",
       " Text(133, 0, '7 Series'),\n",
       " Text(134, 0, 'Nexon'),\n",
       " Text(135, 0, 'Omni'),\n",
       " Text(136, 0, 'Manza'),\n",
       " Text(137, 0, 'Santro'),\n",
       " Text(138, 0, ''),\n",
       " Text(139, 0, 'Indica'),\n",
       " Text(140, 0, 'Indigo'),\n",
       " Text(141, 0, 'Optra'),\n",
       " Text(142, 0, 'Triber'),\n",
       " Text(143, 0, 'Freestyle'),\n",
       " Text(144, 0, 'EON'),\n",
       " Text(145, 0, 'M-Class'),\n",
       " Text(146, 0, 'RediGO'),\n",
       " Text(147, 0, 'KUV 100'),\n",
       " Text(148, 0, 'XUV300'),\n",
       " Text(149, 0, 'GO'),\n",
       " Text(150, 0, 'Sumo'),\n",
       " Text(151, 0, '800'),\n",
       " Text(152, 0, 'S60 Cross Country'),\n",
       " Text(153, 0, 'Sunny'),\n",
       " Text(154, 0, 'GO Plus'),\n",
       " Text(155, 0, 'Spark'),\n",
       " Text(156, 0, 'Bolero Power Plus'),\n",
       " Text(157, 0, 'XE'),\n",
       " Text(158, 0, 'SX4 S Cross'),\n",
       " Text(159, 0, 'GLA Class'),\n",
       " Text(160, 0, 'New Laura'),\n",
       " Text(161, 0, 'GL-Class'),\n",
       " Text(162, 0, 'Rover Range Rover Velar')]"
      ]
     },
     "execution_count": 361,
     "metadata": {},
     "output_type": "execute_result"
    },
    {
     "data": {
      "image/png": "[encoded data removed]",
      "text/plain": [
       "<Figure size 2160x360 with 1 Axes>"
      ]
     },
     "metadata": {
      "needs_background": "light"
     },
     "output_type": "display_data"
    }
   ],
   "source": [
    "plt.figure(figsize=(30,5))\n",
    "chart=sns.countplot(x='varient',data=df)\n",
    "chart.set_xticklabels(chart.get_xticklabels(),rotation=90,horizontalalignment='right')"
   ]
  },
  {
   "cell_type": "markdown",
   "id": "f859ea22",
   "metadata": {},
   "source": [
    "The top models in sales are \n",
    "\n",
    "    (i) Maruti Swift\n",
    "    \n",
    "    (ii) Baleno\n",
    "    \n",
    "    (iii) Grand i 10\n",
    "    \n",
    "    (iv) Alto 800\n",
    "    \n",
    "    (v) Breeza\n",
    "    \n",
    "    (vi) Ecosport\n",
    "    \n",
    "    (vii) Elite i 20\n",
    "    \n",
    "    (viii) Swift Desire\n",
    "    \n",
    "    (ix) Wagnor 1.0\n",
    "    \n",
    "    (x) Alto K10"
   ]
  },
  {
   "cell_type": "code",
   "execution_count": 362,
   "id": "a8773dd1",
   "metadata": {},
   "outputs": [
    {
     "data": {
      "image/png": "[encoded data removed]",
      "text/plain": [
       "<Figure size 432x288 with 1 Axes>"
      ]
     },
     "metadata": {},
     "output_type": "display_data"
    }
   ],
   "source": [
    "plt.pie(x=df['fuel'].value_counts(),labels=df['fuel'].value_counts().index,\n",
    "            data=df,shadow=True,startangle=60,autopct='%1.1f%%',colors=['green','yellow','purple','red','cyan'],\n",
    "       wedgeprops={'linewidth':3.5})\n",
    "plt.setp(plt.title('Fuel',fontsize=15),color='purple',style='italic')\n",
    "plt.axis('equal')\n",
    "plt.show()"
   ]
  },
  {
   "cell_type": "markdown",
   "id": "5c07f72a",
   "metadata": {},
   "source": [
    "(i) 68.4% of cars on sale are Petrol powered\n",
    "\n",
    "(ii) 30.8% are powered by Diesel\n",
    "\n",
    "(iii) There are very less quantity of cars which are powered by CNG or Petrol+CNG"
   ]
  },
  {
   "cell_type": "code",
   "execution_count": 363,
   "id": "1d191d17",
   "metadata": {},
   "outputs": [
    {
     "data": {
      "image/png": "[encoded data removed]",
      "text/plain": [
       "<Figure size 432x288 with 1 Axes>"
      ]
     },
     "metadata": {},
     "output_type": "display_data"
    }
   ],
   "source": [
    "plt.pie(x=df['owner'].value_counts(),labels=df['owner'].value_counts().index,\n",
    "            data=df,shadow=True,startangle=60,autopct='%1.1f%%',colors=['yellow','purple','red','cyan'],\n",
    "       wedgeprops={'linewidth':3.5})\n",
    "plt.setp(plt.title('Owner',fontsize=15),color='purple',style='italic')\n",
    "plt.axis('equal')\n",
    "plt.show()"
   ]
  },
  {
   "cell_type": "markdown",
   "id": "c2549493",
   "metadata": {},
   "source": [
    "(i) 82 % of the cars posted for sale in websites belongs to first owner\n",
    "\n",
    "(ii) 15% belongs to second owner\n",
    "\n",
    "(iii) Very few belongs to 3rd and 4th owner"
   ]
  },
  {
   "cell_type": "code",
   "execution_count": 364,
   "id": "663647e8",
   "metadata": {},
   "outputs": [
    {
     "data": {
      "text/plain": [
       "<AxesSubplot:xlabel='city', ylabel='count'>"
      ]
     },
     "execution_count": 364,
     "metadata": {},
     "output_type": "execute_result"
    },
    {
     "data": {
      "image/png": "[encoded data removed]",
      "text/plain": [
       "<Figure size 720x360 with 1 Axes>"
      ]
     },
     "metadata": {
      "needs_background": "light"
     },
     "output_type": "display_data"
    }
   ],
   "source": [
    "plt.figure(figsize=(10,5))\n",
    "\n",
    "sns.countplot(df['city'])"
   ]
  },
  {
   "cell_type": "markdown",
   "id": "74bd648a",
   "metadata": {},
   "source": [
    "(i) There is higher number of selling cars from Mumbai\n",
    "\n",
    "(ii) New Delhi, Noida, Gurgaon,Pune,Bengaluru,Chennai,Ahmedabad has average number of cars on sale\n",
    "\n",
    "(iii) Comparitively Jaipur has less number of cars on sale\n"
   ]
  },
  {
   "cell_type": "code",
   "execution_count": 365,
   "id": "9d02675e",
   "metadata": {},
   "outputs": [
    {
     "data": {
      "text/plain": [
       "<AxesSubplot:xlabel='kms', ylabel='Count'>"
      ]
     },
     "execution_count": 365,
     "metadata": {},
     "output_type": "execute_result"
    },
    {
     "data": {
      "image/png": "[encoded data removed]",
      "text/plain": [
       "<Figure size 720x360 with 1 Axes>"
      ]
     },
     "metadata": {
      "needs_background": "light"
     },
     "output_type": "display_data"
    }
   ],
   "source": [
    "plt.figure(figsize=(10,5))\n",
    "\n",
    "sns.histplot(df['kms'])"
   ]
  },
  {
   "cell_type": "markdown",
   "id": "ed940f41",
   "metadata": {},
   "source": [
    "Most of cars are on sales has odometer range between 0 to 70,000"
   ]
  },
  {
   "cell_type": "code",
   "execution_count": 366,
   "id": "20d189c7",
   "metadata": {},
   "outputs": [
    {
     "data": {
      "text/plain": [
       "<AxesSubplot:xlabel='price', ylabel='Count'>"
      ]
     },
     "execution_count": 366,
     "metadata": {},
     "output_type": "execute_result"
    },
    {
     "data": {
      "image/png": "[encoded data removed]",
      "text/plain": [
       "<Figure size 720x360 with 1 Axes>"
      ]
     },
     "metadata": {
      "needs_background": "light"
     },
     "output_type": "display_data"
    }
   ],
   "source": [
    "plt.figure(figsize=(10,5))\n",
    "\n",
    "sns.histplot(df.price, bins=10)"
   ]
  },
  {
   "cell_type": "code",
   "execution_count": 367,
   "id": "397adefe",
   "metadata": {},
   "outputs": [],
   "source": [
    "df['age']=2022-df['manufactured']"
   ]
  },
  {
   "cell_type": "code",
   "execution_count": 368,
   "id": "6ede08c7",
   "metadata": {},
   "outputs": [
    {
     "data": {
      "text/html": [
       "<div>\n",
       "<style scoped>\n",
       "    .dataframe tbody tr th:only-of-type {\n",
       "        vertical-align: middle;\n",
       "    }\n",
       "\n",
       "    .dataframe tbody tr th {\n",
       "        vertical-align: top;\n",
       "    }\n",
       "\n",
       "    .dataframe thead th {\n",
       "        text-align: right;\n",
       "    }\n",
       "</style>\n",
       "<table border=\"1\" class=\"dataframe\">\n",
       "  <thead>\n",
       "    <tr style=\"text-align: right;\">\n",
       "      <th></th>\n",
       "      <th>manufactured</th>\n",
       "      <th>brand</th>\n",
       "      <th>varient</th>\n",
       "      <th>owner</th>\n",
       "      <th>fuel</th>\n",
       "      <th>type</th>\n",
       "      <th>kms</th>\n",
       "      <th>price</th>\n",
       "      <th>city</th>\n",
       "      <th>age</th>\n",
       "    </tr>\n",
       "  </thead>\n",
       "  <tbody>\n",
       "    <tr>\n",
       "      <th>0</th>\n",
       "      <td>2012</td>\n",
       "      <td>Maruti</td>\n",
       "      <td>Swift Dzire</td>\n",
       "      <td>1st Owner</td>\n",
       "      <td>Diesel</td>\n",
       "      <td>Manual</td>\n",
       "      <td>118117</td>\n",
       "      <td>316399</td>\n",
       "      <td>New Delhi</td>\n",
       "      <td>10</td>\n",
       "    </tr>\n",
       "    <tr>\n",
       "      <th>1</th>\n",
       "      <td>2013</td>\n",
       "      <td>Maruti</td>\n",
       "      <td>Swift</td>\n",
       "      <td>1st Owner</td>\n",
       "      <td>Diesel</td>\n",
       "      <td>Manual</td>\n",
       "      <td>114506</td>\n",
       "      <td>341599</td>\n",
       "      <td>New Delhi</td>\n",
       "      <td>9</td>\n",
       "    </tr>\n",
       "    <tr>\n",
       "      <th>2</th>\n",
       "      <td>2014</td>\n",
       "      <td>Maruti</td>\n",
       "      <td>Ritz</td>\n",
       "      <td>1st Owner</td>\n",
       "      <td>Diesel</td>\n",
       "      <td>Manual</td>\n",
       "      <td>43382</td>\n",
       "      <td>344199</td>\n",
       "      <td>New Delhi</td>\n",
       "      <td>8</td>\n",
       "    </tr>\n",
       "    <tr>\n",
       "      <th>3</th>\n",
       "      <td>2013</td>\n",
       "      <td>Hyundai</td>\n",
       "      <td>i20</td>\n",
       "      <td>1st Owner</td>\n",
       "      <td>Diesel</td>\n",
       "      <td>Manual</td>\n",
       "      <td>64361</td>\n",
       "      <td>355799</td>\n",
       "      <td>New Delhi</td>\n",
       "      <td>9</td>\n",
       "    </tr>\n",
       "    <tr>\n",
       "      <th>4</th>\n",
       "      <td>2014</td>\n",
       "      <td>Maruti</td>\n",
       "      <td>Swift</td>\n",
       "      <td>1st Owner</td>\n",
       "      <td>Petrol</td>\n",
       "      <td>Manual</td>\n",
       "      <td>107206</td>\n",
       "      <td>401599</td>\n",
       "      <td>New Delhi</td>\n",
       "      <td>8</td>\n",
       "    </tr>\n",
       "  </tbody>\n",
       "</table>\n",
       "</div>"
      ],
      "text/plain": [
       "   manufactured    brand      varient      owner    fuel    type     kms  \\\n",
       "0          2012   Maruti  Swift Dzire  1st Owner  Diesel  Manual  118117   \n",
       "1          2013   Maruti        Swift  1st Owner  Diesel  Manual  114506   \n",
       "2          2014   Maruti         Ritz  1st Owner  Diesel  Manual   43382   \n",
       "3          2013  Hyundai          i20  1st Owner  Diesel  Manual   64361   \n",
       "4          2014   Maruti        Swift  1st Owner  Petrol  Manual  107206   \n",
       "\n",
       "    price       city  age  \n",
       "0  316399  New Delhi   10  \n",
       "1  341599  New Delhi    9  \n",
       "2  344199  New Delhi    8  \n",
       "3  355799  New Delhi    9  \n",
       "4  401599  New Delhi    8  "
      ]
     },
     "execution_count": 368,
     "metadata": {},
     "output_type": "execute_result"
    }
   ],
   "source": [
    "df.head()"
   ]
  },
  {
   "cell_type": "markdown",
   "id": "415c6fdc",
   "metadata": {},
   "source": [
    "Bivariate Analysis"
   ]
  },
  {
   "cell_type": "code",
   "execution_count": 369,
   "id": "ea26b666",
   "metadata": {},
   "outputs": [
    {
     "data": {
      "text/plain": [
       "[Text(0, 0, 'New Delhi'),\n",
       " Text(1, 0, 'Noida'),\n",
       " Text(2, 0, 'Gurgaon'),\n",
       " Text(3, 0, 'Mumbai'),\n",
       " Text(4, 0, 'Pune'),\n",
       " Text(5, 0, 'Bengaluru'),\n",
       " Text(6, 0, 'Hyderabad'),\n",
       " Text(7, 0, 'Chennai'),\n",
       " Text(8, 0, 'Kolkata'),\n",
       " Text(9, 0, 'Ahmedabad'),\n",
       " Text(10, 0, 'Jaipur')]"
      ]
     },
     "execution_count": 369,
     "metadata": {},
     "output_type": "execute_result"
    },
    {
     "data": {
      "image/png": "[encoded data removed]",
      "text/plain": [
       "<Figure size 720x360 with 1 Axes>"
      ]
     },
     "metadata": {
      "needs_background": "light"
     },
     "output_type": "display_data"
    }
   ],
   "source": [
    "plt.figure(figsize=(10,5))\n",
    "chart=sns.countplot(x='city',hue='owner',data=df)\n",
    "chart.set_xticklabels(chart.get_xticklabels(),rotation=90,horizontalalignment='right')"
   ]
  },
  {
   "cell_type": "markdown",
   "id": "52f6d4b5",
   "metadata": {},
   "source": [
    "(i) owner 1st or second has no impact on city wise cars availability"
   ]
  },
  {
   "cell_type": "code",
   "execution_count": 370,
   "id": "0a4f4fc4",
   "metadata": {},
   "outputs": [
    {
     "data": {
      "text/plain": [
       "[Text(0, 0, 'New Delhi'),\n",
       " Text(1, 0, 'Noida'),\n",
       " Text(2, 0, 'Gurgaon'),\n",
       " Text(3, 0, 'Mumbai'),\n",
       " Text(4, 0, 'Pune'),\n",
       " Text(5, 0, 'Bengaluru'),\n",
       " Text(6, 0, 'Hyderabad'),\n",
       " Text(7, 0, 'Chennai'),\n",
       " Text(8, 0, 'Kolkata'),\n",
       " Text(9, 0, 'Ahmedabad'),\n",
       " Text(10, 0, 'Jaipur')]"
      ]
     },
     "execution_count": 370,
     "metadata": {},
     "output_type": "execute_result"
    },
    {
     "data": {
      "image/png": "[encoded data removed]",
      "text/plain": [
       "<Figure size 720x360 with 1 Axes>"
      ]
     },
     "metadata": {
      "needs_background": "light"
     },
     "output_type": "display_data"
    }
   ],
   "source": [
    "plt.figure(figsize=(10,5))\n",
    "chart=sns.countplot(x='city',hue='type',data=df)\n",
    "chart.set_xticklabels(chart.get_xticklabels(),rotation=90,horizontalalignment='right')"
   ]
  },
  {
   "cell_type": "markdown",
   "id": "3a7d313b",
   "metadata": {},
   "source": [
    "(i) Type automatic or manual has no impact on city wise cars availability"
   ]
  },
  {
   "cell_type": "code",
   "execution_count": 371,
   "id": "e2af87e7",
   "metadata": {},
   "outputs": [
    {
     "data": {
      "text/plain": [
       "<AxesSubplot:xlabel='fuel', ylabel='price'>"
      ]
     },
     "execution_count": 371,
     "metadata": {},
     "output_type": "execute_result"
    },
    {
     "data": {
      "image/png": "[encoded data removed]",
      "text/plain": [
       "<Figure size 432x288 with 1 Axes>"
      ]
     },
     "metadata": {
      "needs_background": "light"
     },
     "output_type": "display_data"
    }
   ],
   "source": [
    "sns.barplot(x='fuel',y='price',data=df)"
   ]
  },
  {
   "cell_type": "markdown",
   "id": "c4878425",
   "metadata": {},
   "source": [
    "(i) Diesel engined car has got the maximum price\n",
    "\n",
    "(ii) Car which are powered by Petrol + LPG has comparitively less price"
   ]
  },
  {
   "cell_type": "code",
   "execution_count": 372,
   "id": "82a600a8",
   "metadata": {},
   "outputs": [
    {
     "data": {
      "text/plain": [
       "<AxesSubplot:xlabel='age', ylabel='price'>"
      ]
     },
     "execution_count": 372,
     "metadata": {},
     "output_type": "execute_result"
    },
    {
     "data": {
      "image/png": "[encoded data removed]",
      "text/plain": [
       "<Figure size 432x288 with 1 Axes>"
      ]
     },
     "metadata": {
      "needs_background": "light"
     },
     "output_type": "display_data"
    }
   ],
   "source": [
    "sns.barplot(x='age',y='price',data=df)"
   ]
  },
  {
   "cell_type": "markdown",
   "id": "56e1add3",
   "metadata": {},
   "source": [
    "The price of car is dependent on age of the car. The older car has less price\n",
    "and newer are costlier"
   ]
  },
  {
   "cell_type": "code",
   "execution_count": 373,
   "id": "8f79e792",
   "metadata": {},
   "outputs": [
    {
     "data": {
      "text/plain": [
       "[Text(0, 0, 'Maruti'),\n",
       " Text(1, 0, 'Hyundai'),\n",
       " Text(2, 0, 'Honda'),\n",
       " Text(3, 0, 'Ford'),\n",
       " Text(4, 0, 'Volvo'),\n",
       " Text(5, 0, 'Tata'),\n",
       " Text(6, 0, 'Toyota'),\n",
       " Text(7, 0, 'BMW'),\n",
       " Text(8, 0, 'Mahindra'),\n",
       " Text(9, 0, 'Datsun'),\n",
       " Text(10, 0, 'Audi'),\n",
       " Text(11, 0, 'MG'),\n",
       " Text(12, 0, 'Skoda'),\n",
       " Text(13, 0, 'Renault'),\n",
       " Text(14, 0, 'Volkswagen'),\n",
       " Text(15, 0, 'Nissan'),\n",
       " Text(16, 0, 'KIA'),\n",
       " Text(17, 0, 'Jeep'),\n",
       " Text(18, 0, 'Mercedes'),\n",
       " Text(19, 0, 'Landrover'),\n",
       " Text(20, 0, 'Jaguar'),\n",
       " Text(21, 0, 'Kia'),\n",
       " Text(22, 0, 'Chevrolet'),\n",
       " Text(23, 0, 'Mercedes-Benz'),\n",
       " Text(24, 0, 'Mitsubishi'),\n",
       " Text(25, 0, 'Ambassador'),\n",
       " Text(26, 0, 'Land')]"
      ]
     },
     "execution_count": 373,
     "metadata": {},
     "output_type": "execute_result"
    },
    {
     "data": {
      "image/png": "[encoded data removed]",
      "text/plain": [
       "<Figure size 720x360 with 1 Axes>"
      ]
     },
     "metadata": {
      "needs_background": "light"
     },
     "output_type": "display_data"
    }
   ],
   "source": [
    "plt.figure(figsize=(10,5))\n",
    "chart=sns.barplot(x='brand',y='price',data=df)\n",
    "chart.set_xticklabels(chart.get_xticklabels(),rotation=90,horizontalalignment='right')"
   ]
  },
  {
   "cell_type": "markdown",
   "id": "1c7222fe",
   "metadata": {},
   "source": [
    "(i) Land Rover has highest price in all the available cars\n",
    "\n",
    "(ii) Jaguar, Mercedes-Benz,Audi,MG,BMW,VOLVO,Landrover,Kia,jeep etc comes \n",
    "under higher price \n",
    "\n",
    "(iii) Ambassador is cheapest car available\n",
    "\n",
    "(iv) Datsun, Chevrolet,Maruti,Hyundai,Honda,Tata,Ford,Nissan,Mahindra etc has \n",
    "lesser price "
   ]
  },
  {
   "cell_type": "code",
   "execution_count": 374,
   "id": "6985203e",
   "metadata": {},
   "outputs": [
    {
     "data": {
      "text/plain": [
       "<AxesSubplot:xlabel='kms', ylabel='price'>"
      ]
     },
     "execution_count": 374,
     "metadata": {},
     "output_type": "execute_result"
    },
    {
     "data": {
      "image/png": "[encoded data removed]",
      "text/plain": [
       "<Figure size 432x288 with 1 Axes>"
      ]
     },
     "metadata": {
      "needs_background": "light"
     },
     "output_type": "display_data"
    }
   ],
   "source": [
    "sns.scatterplot(x='kms',y='price',data=df)"
   ]
  },
  {
   "cell_type": "markdown",
   "id": "dd11d028",
   "metadata": {},
   "source": [
    "We can observe the price has decreased with the increasing lebel of Kms completed by cars"
   ]
  },
  {
   "cell_type": "markdown",
   "id": "823144ab",
   "metadata": {},
   "source": [
    "# Removing the Outliers"
   ]
  },
  {
   "cell_type": "code",
   "execution_count": 375,
   "id": "d1527910",
   "metadata": {},
   "outputs": [
    {
     "data": {
      "image/png": "[encoded data removed]",
      "text/plain": [
       "<Figure size 432x288 with 1 Axes>"
      ]
     },
     "metadata": {
      "needs_background": "light"
     },
     "output_type": "display_data"
    },
    {
     "data": {
      "image/png": "[encoded data removed]",
      "text/plain": [
       "<Figure size 432x288 with 1 Axes>"
      ]
     },
     "metadata": {
      "needs_background": "light"
     },
     "output_type": "display_data"
    },
    {
     "data": {
      "image/png": "[encoded data removed]",
      "text/plain": [
       "<Figure size 432x288 with 1 Axes>"
      ]
     },
     "metadata": {
      "needs_background": "light"
     },
     "output_type": "display_data"
    },
    {
     "data": {
      "image/png": "[encoded data removed]",
      "text/plain": [
       "<Figure size 432x288 with 1 Axes>"
      ]
     },
     "metadata": {
      "needs_background": "light"
     },
     "output_type": "display_data"
    }
   ],
   "source": [
    "for i in df.columns:\n",
    "    if df[i].dtypes != object:\n",
    "        sns.boxplot(df[i])\n",
    "        plt.show()"
   ]
  },
  {
   "cell_type": "markdown",
   "id": "bd2d99a7",
   "metadata": {},
   "source": [
    "There are outliers , we need to remove it"
   ]
  },
  {
   "cell_type": "code",
   "execution_count": 376,
   "id": "04319ec4",
   "metadata": {},
   "outputs": [],
   "source": [
    "#features with outliers\n",
    "features=df[['manufactured','kms',]]"
   ]
  },
  {
   "cell_type": "code",
   "execution_count": 377,
   "id": "3721937d",
   "metadata": {},
   "outputs": [],
   "source": [
    "from scipy.stats import zscore\n",
    "z=np.abs(zscore(features))"
   ]
  },
  {
   "cell_type": "code",
   "execution_count": 378,
   "id": "84ef6fd4",
   "metadata": {},
   "outputs": [
    {
     "data": {
      "text/plain": [
       "(5387, 10)"
      ]
     },
     "execution_count": 378,
     "metadata": {},
     "output_type": "execute_result"
    }
   ],
   "source": [
    "df.shape"
   ]
  },
  {
   "cell_type": "code",
   "execution_count": 379,
   "id": "df515d46",
   "metadata": {},
   "outputs": [],
   "source": [
    "df=df[(z<3).all(axis=1)]"
   ]
  },
  {
   "cell_type": "code",
   "execution_count": 380,
   "id": "97f78f85",
   "metadata": {},
   "outputs": [
    {
     "data": {
      "text/plain": [
       "(5292, 10)"
      ]
     },
     "execution_count": 380,
     "metadata": {},
     "output_type": "execute_result"
    }
   ],
   "source": [
    "df.shape"
   ]
  },
  {
   "cell_type": "code",
   "execution_count": 381,
   "id": "9521218f",
   "metadata": {},
   "outputs": [
    {
     "data": {
      "text/plain": [
       "1.9455252918287937"
      ]
     },
     "execution_count": 381,
     "metadata": {},
     "output_type": "execute_result"
    }
   ],
   "source": [
    "loss=(5397-5292)*100/5397\n",
    "loss"
   ]
  },
  {
   "cell_type": "markdown",
   "id": "14e3ce7e",
   "metadata": {},
   "source": [
    "There is loss of 2 % data which is acceptable"
   ]
  },
  {
   "cell_type": "markdown",
   "id": "634d9a7d",
   "metadata": {},
   "source": [
    "# Removing Skewness"
   ]
  },
  {
   "cell_type": "code",
   "execution_count": 382,
   "id": "a626929d",
   "metadata": {},
   "outputs": [
    {
     "data": {
      "text/plain": [
       "manufactured   -0.453120\n",
       "kms             0.865059\n",
       "price           3.802687\n",
       "age             0.453120\n",
       "dtype: float64"
      ]
     },
     "execution_count": 382,
     "metadata": {},
     "output_type": "execute_result"
    }
   ],
   "source": [
    "df.skew()"
   ]
  },
  {
   "cell_type": "markdown",
   "id": "1893f5c0",
   "metadata": {},
   "source": [
    "There is no skewness "
   ]
  },
  {
   "cell_type": "markdown",
   "id": "c0cb13d5",
   "metadata": {},
   "source": [
    "# Encoding of data"
   ]
  },
  {
   "cell_type": "code",
   "execution_count": 383,
   "id": "ab760884",
   "metadata": {},
   "outputs": [
    {
     "name": "stdout",
     "output_type": "stream",
     "text": [
      "['manufactured', 'brand', 'varient', 'owner', 'fuel', 'type', 'city']\n"
     ]
    }
   ],
   "source": [
    "# Separating categorical columns in df_new\n",
    "features=['manufactured']\n",
    "for i in df.dtypes.index:\n",
    "    if df.dtypes[i]=='object':\n",
    "        features.append(i)\n",
    "print(features)"
   ]
  },
  {
   "cell_type": "code",
   "execution_count": 384,
   "id": "5f83e30d",
   "metadata": {},
   "outputs": [],
   "source": [
    "df_encoded=df"
   ]
  },
  {
   "cell_type": "code",
   "execution_count": 385,
   "id": "0aca8030",
   "metadata": {},
   "outputs": [],
   "source": [
    "from sklearn.preprocessing import LabelEncoder\n",
    "LE=LabelEncoder()\n",
    "df_encoded[features]= df_encoded[features].apply(LE.fit_transform)"
   ]
  },
  {
   "cell_type": "code",
   "execution_count": 386,
   "id": "0dfd0d5c",
   "metadata": {},
   "outputs": [
    {
     "data": {
      "text/html": [
       "<div>\n",
       "<style scoped>\n",
       "    .dataframe tbody tr th:only-of-type {\n",
       "        vertical-align: middle;\n",
       "    }\n",
       "\n",
       "    .dataframe tbody tr th {\n",
       "        vertical-align: top;\n",
       "    }\n",
       "\n",
       "    .dataframe thead th {\n",
       "        text-align: right;\n",
       "    }\n",
       "</style>\n",
       "<table border=\"1\" class=\"dataframe\">\n",
       "  <thead>\n",
       "    <tr style=\"text-align: right;\">\n",
       "      <th></th>\n",
       "      <th>manufactured</th>\n",
       "      <th>brand</th>\n",
       "      <th>varient</th>\n",
       "      <th>owner</th>\n",
       "      <th>fuel</th>\n",
       "      <th>type</th>\n",
       "      <th>kms</th>\n",
       "      <th>price</th>\n",
       "      <th>city</th>\n",
       "      <th>age</th>\n",
       "    </tr>\n",
       "  </thead>\n",
       "  <tbody>\n",
       "    <tr>\n",
       "      <th>0</th>\n",
       "      <td>3</td>\n",
       "      <td>15</td>\n",
       "      <td>127</td>\n",
       "      <td>0</td>\n",
       "      <td>1</td>\n",
       "      <td>1</td>\n",
       "      <td>118117</td>\n",
       "      <td>316399</td>\n",
       "      <td>8</td>\n",
       "      <td>10</td>\n",
       "    </tr>\n",
       "    <tr>\n",
       "      <th>1</th>\n",
       "      <td>4</td>\n",
       "      <td>15</td>\n",
       "      <td>126</td>\n",
       "      <td>0</td>\n",
       "      <td>1</td>\n",
       "      <td>1</td>\n",
       "      <td>114506</td>\n",
       "      <td>341599</td>\n",
       "      <td>8</td>\n",
       "      <td>9</td>\n",
       "    </tr>\n",
       "    <tr>\n",
       "      <th>2</th>\n",
       "      <td>5</td>\n",
       "      <td>15</td>\n",
       "      <td>105</td>\n",
       "      <td>0</td>\n",
       "      <td>1</td>\n",
       "      <td>1</td>\n",
       "      <td>43382</td>\n",
       "      <td>344199</td>\n",
       "      <td>8</td>\n",
       "      <td>8</td>\n",
       "    </tr>\n",
       "    <tr>\n",
       "      <th>3</th>\n",
       "      <td>4</td>\n",
       "      <td>6</td>\n",
       "      <td>158</td>\n",
       "      <td>0</td>\n",
       "      <td>1</td>\n",
       "      <td>1</td>\n",
       "      <td>64361</td>\n",
       "      <td>355799</td>\n",
       "      <td>8</td>\n",
       "      <td>9</td>\n",
       "    </tr>\n",
       "    <tr>\n",
       "      <th>4</th>\n",
       "      <td>5</td>\n",
       "      <td>15</td>\n",
       "      <td>126</td>\n",
       "      <td>0</td>\n",
       "      <td>2</td>\n",
       "      <td>1</td>\n",
       "      <td>107206</td>\n",
       "      <td>401599</td>\n",
       "      <td>8</td>\n",
       "      <td>8</td>\n",
       "    </tr>\n",
       "  </tbody>\n",
       "</table>\n",
       "</div>"
      ],
      "text/plain": [
       "   manufactured  brand  varient  owner  fuel  type     kms   price  city  age\n",
       "0             3     15      127      0     1     1  118117  316399     8   10\n",
       "1             4     15      126      0     1     1  114506  341599     8    9\n",
       "2             5     15      105      0     1     1   43382  344199     8    8\n",
       "3             4      6      158      0     1     1   64361  355799     8    9\n",
       "4             5     15      126      0     2     1  107206  401599     8    8"
      ]
     },
     "execution_count": 386,
     "metadata": {},
     "output_type": "execute_result"
    }
   ],
   "source": [
    "df_encoded.head()"
   ]
  },
  {
   "cell_type": "markdown",
   "id": "17b22f2c",
   "metadata": {},
   "source": [
    "# Spliting of Features and Target"
   ]
  },
  {
   "cell_type": "code",
   "execution_count": 387,
   "id": "0d2fc779",
   "metadata": {},
   "outputs": [],
   "source": [
    "X=df_encoded.drop('price',axis=1)\n",
    "y=df_encoded['price']"
   ]
  },
  {
   "cell_type": "markdown",
   "id": "62cf2045",
   "metadata": {},
   "source": [
    "# Correlation"
   ]
  },
  {
   "cell_type": "code",
   "execution_count": 388,
   "id": "baf9f7b5",
   "metadata": {},
   "outputs": [
    {
     "data": {
      "text/plain": [
       "<AxesSubplot:>"
      ]
     },
     "execution_count": 388,
     "metadata": {},
     "output_type": "execute_result"
    },
    {
     "data": {
      "image/png": "[encoded data removed]",
      "text/plain": [
       "<Figure size 1080x720 with 2 Axes>"
      ]
     },
     "metadata": {
      "needs_background": "light"
     },
     "output_type": "display_data"
    }
   ],
   "source": [
    "plt.figure(figsize=(15,10))\n",
    "sns.heatmap(df_encoded.corr(),annot=True)"
   ]
  },
  {
   "cell_type": "markdown",
   "id": "7a4879e8",
   "metadata": {},
   "source": [
    "(i) Manufacture year is positively correlated with price\n",
    "\n",
    "(ii) Kms ,age,brand are negatively correlated with price"
   ]
  },
  {
   "cell_type": "code",
   "execution_count": 389,
   "id": "2712f99e",
   "metadata": {},
   "outputs": [
    {
     "data": {
      "image/png": "[encoded data removed]",
      "text/plain": [
       "<Figure size 1080x720 with 1 Axes>"
      ]
     },
     "metadata": {
      "needs_background": "light"
     },
     "output_type": "display_data"
    }
   ],
   "source": [
    "# generationg corraltion bar graph\n",
    "plt.figure(figsize=(15,10))\n",
    "df_encoded.corr()['price'].sort_values(ascending=False).drop(['price']).plot(kind='bar',color='b')\n",
    "plt.xlabel('Features',fontsize=10)\n",
    "plt.ylabel('target',fontsize=10)\n",
    "plt.title('Correlation between Target and features ',fontsize=20)\n",
    "plt.show()"
   ]
  },
  {
   "cell_type": "markdown",
   "id": "2e28fa19",
   "metadata": {},
   "source": [
    "# Scaling  of Features"
   ]
  },
  {
   "cell_type": "code",
   "execution_count": 391,
   "id": "9210c393",
   "metadata": {},
   "outputs": [],
   "source": [
    "from sklearn.preprocessing import minmax_scale\n",
    "\n",
    "X[['kms']] = minmax_scale(X[['kms']])"
   ]
  },
  {
   "cell_type": "markdown",
   "id": "570809e5",
   "metadata": {},
   "source": [
    "# MultiCillinearity"
   ]
  },
  {
   "cell_type": "code",
   "execution_count": 392,
   "id": "1eed3651",
   "metadata": {},
   "outputs": [
    {
     "data": {
      "text/html": [
       "<div>\n",
       "<style scoped>\n",
       "    .dataframe tbody tr th:only-of-type {\n",
       "        vertical-align: middle;\n",
       "    }\n",
       "\n",
       "    .dataframe tbody tr th {\n",
       "        vertical-align: top;\n",
       "    }\n",
       "\n",
       "    .dataframe thead th {\n",
       "        text-align: right;\n",
       "    }\n",
       "</style>\n",
       "<table border=\"1\" class=\"dataframe\">\n",
       "  <thead>\n",
       "    <tr style=\"text-align: right;\">\n",
       "      <th></th>\n",
       "      <th>vif</th>\n",
       "      <th>Features</th>\n",
       "    </tr>\n",
       "  </thead>\n",
       "  <tbody>\n",
       "    <tr>\n",
       "      <th>0</th>\n",
       "      <td>16.429463</td>\n",
       "      <td>manufactured</td>\n",
       "    </tr>\n",
       "    <tr>\n",
       "      <th>1</th>\n",
       "      <td>1.023485</td>\n",
       "      <td>brand</td>\n",
       "    </tr>\n",
       "    <tr>\n",
       "      <th>2</th>\n",
       "      <td>1.075701</td>\n",
       "      <td>varient</td>\n",
       "    </tr>\n",
       "    <tr>\n",
       "      <th>3</th>\n",
       "      <td>1.043658</td>\n",
       "      <td>owner</td>\n",
       "    </tr>\n",
       "    <tr>\n",
       "      <th>4</th>\n",
       "      <td>1.304374</td>\n",
       "      <td>fuel</td>\n",
       "    </tr>\n",
       "    <tr>\n",
       "      <th>5</th>\n",
       "      <td>1.022904</td>\n",
       "      <td>type</td>\n",
       "    </tr>\n",
       "    <tr>\n",
       "      <th>6</th>\n",
       "      <td>1.678686</td>\n",
       "      <td>kms</td>\n",
       "    </tr>\n",
       "    <tr>\n",
       "      <th>7</th>\n",
       "      <td>1.024760</td>\n",
       "      <td>city</td>\n",
       "    </tr>\n",
       "    <tr>\n",
       "      <th>8</th>\n",
       "      <td>18.318936</td>\n",
       "      <td>age</td>\n",
       "    </tr>\n",
       "  </tbody>\n",
       "</table>\n",
       "</div>"
      ],
      "text/plain": [
       "         vif      Features\n",
       "0  16.429463  manufactured\n",
       "1   1.023485         brand\n",
       "2   1.075701       varient\n",
       "3   1.043658         owner\n",
       "4   1.304374          fuel\n",
       "5   1.022904          type\n",
       "6   1.678686           kms\n",
       "7   1.024760          city\n",
       "8  18.318936           age"
      ]
     },
     "execution_count": 392,
     "metadata": {},
     "output_type": "execute_result"
    }
   ],
   "source": [
    "# checking the VIF values \n",
    "from statsmodels.stats.outliers_influence import variance_inflation_factor\n",
    "vif = pd.DataFrame()\n",
    "vif[\"vif\"] = [variance_inflation_factor(X.values,i)\n",
    "              for i in range(len(X.columns))]\n",
    "vif[\"Features\"] = X.columns\n",
    "vif"
   ]
  },
  {
   "cell_type": "markdown",
   "id": "569d7f2c",
   "metadata": {},
   "source": [
    "We can select manufactured or age as dependent features so we will drop manufacutred"
   ]
  },
  {
   "cell_type": "code",
   "execution_count": 393,
   "id": "c4b7798e",
   "metadata": {},
   "outputs": [],
   "source": [
    "X.drop('manufactured',axis=1,inplace=True)"
   ]
  },
  {
   "cell_type": "markdown",
   "id": "7690de9b",
   "metadata": {},
   "source": [
    "# Spliting of training and test data with best random state"
   ]
  },
  {
   "cell_type": "code",
   "execution_count": 394,
   "id": "50519ca2",
   "metadata": {},
   "outputs": [
    {
     "name": "stdout",
     "output_type": "stream",
     "text": [
      "Maximum r2 score is  0.8949529982912583 at Random_state 81\n"
     ]
    }
   ],
   "source": [
    "from sklearn.model_selection import train_test_split\n",
    "from sklearn.metrics import mean_absolute_error\n",
    "from sklearn.metrics import mean_squared_error\n",
    "from sklearn.metrics import r2_score\n",
    "from sklearn.linear_model import LinearRegression\n",
    "\n",
    "from sklearn.ensemble import RandomForestRegressor\n",
    "maxAccu=0\n",
    "maxRS=0\n",
    "for i in range(1,200):\n",
    "    x_train,x_test,y_train,y_test = train_test_split(X,y,test_size=0.30,random_state=i)\n",
    "    mod = RandomForestRegressor()\n",
    "    mod.fit(x_train,y_train)\n",
    "    pred = mod.predict(x_test)\n",
    "    acc = r2_score(y_test,pred)\n",
    "    if acc>maxAccu:\n",
    "        maxAccu=acc\n",
    "        maxRS=i\n",
    "\n",
    "print(\"Maximum r2 score is \",maxAccu,\"at Random_state\",maxRS)\n"
   ]
  },
  {
   "cell_type": "code",
   "execution_count": 395,
   "id": "01ff563d",
   "metadata": {},
   "outputs": [],
   "source": [
    "x_train,x_test,y_train,y_test=train_test_split(X,y,test_size=.30,random_state=81)"
   ]
  },
  {
   "cell_type": "markdown",
   "id": "30de2847",
   "metadata": {},
   "source": [
    "# Searching for best Model"
   ]
  },
  {
   "cell_type": "code",
   "execution_count": 396,
   "id": "6fd458b6",
   "metadata": {},
   "outputs": [],
   "source": [
    "from sklearn.linear_model import LinearRegression\n",
    "from sklearn.ensemble import RandomForestRegressor\n",
    "from sklearn.tree import DecisionTreeRegressor\n",
    "from sklearn.neighbors import KNeighborsRegressor as KNN\n",
    "from sklearn.svm import SVR\n",
    "from sklearn.linear_model import SGDRegressor\n",
    "from sklearn.model_selection import cross_val_score\n",
    "from sklearn.linear_model import Ridge"
   ]
  },
  {
   "cell_type": "code",
   "execution_count": 397,
   "id": "6a494cd1",
   "metadata": {},
   "outputs": [],
   "source": [
    "def model_test(model):\n",
    "    model.fit(x_train,y_train)\n",
    "    pred=model.predict(x_test)\n",
    "    print(\"Model Name :\",model)\n",
    "    print('R2_score:',r2_score(y_test,pred))\n",
    "    print(mean_absolute_error(y_test,pred))\n",
    "    print(mean_squared_error(y_test,pred))"
   ]
  },
  {
   "cell_type": "code",
   "execution_count": 400,
   "id": "3a50d32b",
   "metadata": {},
   "outputs": [],
   "source": [
    "lr=LinearRegression()\n",
    "rfr=RandomForestRegressor()\n",
    "dtr=DecisionTreeRegressor()\n",
    "knn=KNN()\n",
    "svr=SVR()\n",
    "SGD=SGDRegressor()\n",
    "R=Ridge()\n",
    "models=[lr,rfr,dtr,knn,svr,SGD,R]"
   ]
  },
  {
   "cell_type": "code",
   "execution_count": 401,
   "id": "b3c333ab",
   "metadata": {},
   "outputs": [
    {
     "name": "stdout",
     "output_type": "stream",
     "text": [
      "Model Name : LinearRegression()\n",
      "R2_score: 0.41593630087645705\n",
      "163668.044479435\n",
      "52709139270.88022\n",
      "Model Name : RandomForestRegressor()\n",
      "R2_score: 0.8935691695721141\n",
      "50717.490969773295\n",
      "9604906917.10025\n",
      "Model Name : DecisionTreeRegressor()\n",
      "R2_score: 0.8686624016171725\n",
      "47001.8476070529\n",
      "11852631442.515114\n",
      "Model Name : KNeighborsRegressor()\n",
      "R2_score: 0.8418353601005881\n",
      "61407.0750629723\n",
      "14273652077.156927\n",
      "Model Name : SVR()\n",
      "R2_score: -0.04448952891360314\n",
      "208257.96376691695\n",
      "94260513243.8439\n",
      "Model Name : SGDRegressor()\n",
      "R2_score: -88353002973774.0\n",
      "2272825101324.1094\n",
      "7.973463760431609e+24\n",
      "Model Name : Ridge()\n",
      "R2_score: 0.4160614692322312\n",
      "163630.74199343985\n",
      "52697843386.01919\n"
     ]
    }
   ],
   "source": [
    "for i in models:\n",
    "    model_test(i)"
   ]
  },
  {
   "cell_type": "markdown",
   "id": "9530da96",
   "metadata": {},
   "source": [
    "# Cross Validation Score "
   ]
  },
  {
   "cell_type": "code",
   "execution_count": 405,
   "id": "a66801bf",
   "metadata": {},
   "outputs": [
    {
     "name": "stdout",
     "output_type": "stream",
     "text": [
      "LR 0.30929856855595766\n",
      "RFR 0.7058046622713413\n",
      "DTR 0.46903023931281157\n",
      "KNN 0.6966139757665308\n",
      "SVR -0.09394243400026099\n",
      "SGD -15093548505262.094\n",
      "RIdge nan\n"
     ]
    }
   ],
   "source": [
    "print('LR',cross_val_score(lr,X,y,cv=5).mean())\n",
    "print('RFR',cross_val_score(rfr,X,y,cv=5).mean())\n",
    "print('DTR',cross_val_score(dtr,X,y,cv=5).mean())\n",
    "print('KNN',cross_val_score(knn,X,y,cv=5).mean())\n",
    "print('SVR',cross_val_score(svr,X,y,cv=5).mean())\n",
    "print('SGD',cross_val_score(SGD,X,y,cv=5).mean())\n",
    "print('RIdge',cross_val_score(R,X,cv=5).mean())"
   ]
  },
  {
   "cell_type": "markdown",
   "id": "3709e598",
   "metadata": {},
   "source": [
    "# Hyper Parameter Tuning "
   ]
  },
  {
   "cell_type": "code",
   "execution_count": 406,
   "id": "c494a88d",
   "metadata": {},
   "outputs": [
    {
     "name": "stdout",
     "output_type": "stream",
     "text": [
      "Best Parameters {'criterion': 'mse', 'max_depth': 6, 'max_features': 'auto', 'min_samples_split': 5, 'n_estimators': 300}\n"
     ]
    }
   ],
   "source": [
    "from sklearn.model_selection import GridSearchCV\n",
    "parameters={'n_estimators':[80,100,200,300],\n",
    "            'criterion':['mse','mae'],\n",
    "           'max_features':['auto','sqrt','log2'],\n",
    "           'min_samples_split':[3,4,5,10,20],\n",
    "           'max_depth':[2,4,6]}\n",
    "GCV=GridSearchCV(RandomForestRegressor(),parameters,cv=3)\n",
    "GCV.fit(x_train,y_train)\n",
    "print('Best Parameters',GCV.best_params_)"
   ]
  },
  {
   "cell_type": "code",
   "execution_count": 407,
   "id": "cac51e25",
   "metadata": {},
   "outputs": [
    {
     "name": "stdout",
     "output_type": "stream",
     "text": [
      "R2_score: 0.8920392604722379\n",
      "50636.54124685138\n",
      "9742974377.786764\n"
     ]
    }
   ],
   "source": [
    "fin_model=RandomForestRegressor(criterion='mse',max_depth=6,max_features='auto',min_samples_split=5,n_estimators=100)\n",
    "fin_model=RandomForestRegressor()\n",
    "fin_model.fit(x_train,y_train)\n",
    "pred=fin_model.predict(x_test)\n",
    "print('R2_score:',r2_score(y_test,pred))\n",
    "print(mean_absolute_error(y_test,pred))\n",
    "print(mean_squared_error(y_test,pred))"
   ]
  },
  {
   "cell_type": "markdown",
   "id": "bd7bacd8",
   "metadata": {},
   "source": [
    "# Plotting of model"
   ]
  },
  {
   "cell_type": "code",
   "execution_count": 408,
   "id": "28540380",
   "metadata": {},
   "outputs": [
    {
     "data": {
      "image/png": "[encoded data removed]",
      "text/plain": [
       "<Figure size 576x432 with 1 Axes>"
      ]
     },
     "metadata": {
      "needs_background": "light"
     },
     "output_type": "display_data"
    }
   ],
   "source": [
    "plt.figure(figsize=(8,6))\n",
    "plt.scatter(x=y_test,y=pred,color='g')\n",
    "plt.plot(y_test,y_test,color='r')\n",
    "plt.xlabel('Actual Price',fontsize=14)\n",
    "plt.ylabel('Predicted Price',fontsize=14)\n",
    "plt.title('RandomForestRegressor',fontsize=18)\n",
    "plt.show()"
   ]
  },
  {
   "cell_type": "markdown",
   "id": "1c2bc4bf",
   "metadata": {},
   "source": [
    "# Saving of Model"
   ]
  },
  {
   "cell_type": "code",
   "execution_count": 409,
   "id": "1104914e",
   "metadata": {},
   "outputs": [
    {
     "data": {
      "text/plain": [
       "['car_price_prediction.obj']"
      ]
     },
     "execution_count": 409,
     "metadata": {},
     "output_type": "execute_result"
    }
   ],
   "source": [
    "import joblib\n",
    "joblib.dump(fin_model,'car_price_prediction.obj')"
   ]
  },
  {
   "cell_type": "markdown",
   "id": "596405fc",
   "metadata": {},
   "source": [
    "Saved the model for future implementation"
   ]
  }
 ],
 "metadata": {
  "kernelspec": {
   "display_name": "Python 3 (ipykernel)",
   "language": "python",
   "name": "python3"
  },
  "language_info": {
   "codemirror_mode": {
    "name": "ipython",
    "version": 3
   },
   "file_extension": ".py",
   "mimetype": "text/x-python",
   "name": "python",
   "nbconvert_exporter": "python",
   "pygments_lexer": "ipython3",
   "version": "3.7.1"
  }
 },
 "nbformat": 4,
 "nbformat_minor": 5
}
