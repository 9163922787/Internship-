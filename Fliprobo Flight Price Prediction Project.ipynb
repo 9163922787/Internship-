{
 "cells": [
  {
   "cell_type": "code",
   "execution_count": 36,
   "id": "ac7d80d6",
   "metadata": {},
   "outputs": [],
   "source": [
    "import pandas as pd\n",
    "import numpy as np\n",
    "import matplotlib.pyplot as plt\n",
    "import seaborn as sns\n",
    "import warnings\n",
    "warnings.filterwarnings('ignore')"
   ]
  },
  {
   "cell_type": "code",
   "execution_count": 37,
   "id": "931396ea",
   "metadata": {},
   "outputs": [],
   "source": [
    "# loading the dataset \n",
    "df=pd.read_csv('scraped_flight_price.csv')"
   ]
  },
  {
   "cell_type": "code",
   "execution_count": 38,
   "id": "8460223f",
   "metadata": {},
   "outputs": [
    {
     "data": {
      "text/html": [
       "<div>\n",
       "<style scoped>\n",
       "    .dataframe tbody tr th:only-of-type {\n",
       "        vertical-align: middle;\n",
       "    }\n",
       "\n",
       "    .dataframe tbody tr th {\n",
       "        vertical-align: top;\n",
       "    }\n",
       "\n",
       "    .dataframe thead th {\n",
       "        text-align: right;\n",
       "    }\n",
       "</style>\n",
       "<table border=\"1\" class=\"dataframe\">\n",
       "  <thead>\n",
       "    <tr style=\"text-align: right;\">\n",
       "      <th></th>\n",
       "      <th>Unnamed: 0</th>\n",
       "      <th>Airline</th>\n",
       "      <th>Dept_City</th>\n",
       "      <th>Arr_City</th>\n",
       "      <th>Departure</th>\n",
       "      <th>Dep_date</th>\n",
       "      <th>Arrival</th>\n",
       "      <th>Duration</th>\n",
       "      <th>Stops</th>\n",
       "      <th>Price</th>\n",
       "    </tr>\n",
       "  </thead>\n",
       "  <tbody>\n",
       "    <tr>\n",
       "      <th>0</th>\n",
       "      <td>0</td>\n",
       "      <td>Air Asia</td>\n",
       "      <td>Kolkata</td>\n",
       "      <td>Mumbai</td>\n",
       "      <td>20:00</td>\n",
       "      <td>Fri, 25 Feb</td>\n",
       "      <td>06:35</td>\n",
       "      <td>10:35</td>\n",
       "      <td>1stop</td>\n",
       "      <td>7957</td>\n",
       "    </tr>\n",
       "    <tr>\n",
       "      <th>1</th>\n",
       "      <td>1</td>\n",
       "      <td>SpiceJet</td>\n",
       "      <td>Kolkata</td>\n",
       "      <td>Mumbai</td>\n",
       "      <td>09:35</td>\n",
       "      <td>Fri, 25 Feb</td>\n",
       "      <td>12:20</td>\n",
       "      <td>2:45</td>\n",
       "      <td>non-stop</td>\n",
       "      <td>7958</td>\n",
       "    </tr>\n",
       "    <tr>\n",
       "      <th>2</th>\n",
       "      <td>2</td>\n",
       "      <td>SpiceJet</td>\n",
       "      <td>Kolkata</td>\n",
       "      <td>Mumbai</td>\n",
       "      <td>21:55</td>\n",
       "      <td>Fri, 25 Feb</td>\n",
       "      <td>00:45</td>\n",
       "      <td>2:50</td>\n",
       "      <td>non-stop</td>\n",
       "      <td>7958</td>\n",
       "    </tr>\n",
       "    <tr>\n",
       "      <th>3</th>\n",
       "      <td>3</td>\n",
       "      <td>SpiceJet</td>\n",
       "      <td>Kolkata</td>\n",
       "      <td>Mumbai</td>\n",
       "      <td>21:55</td>\n",
       "      <td>Fri, 25 Feb</td>\n",
       "      <td>08:40</td>\n",
       "      <td>10:45</td>\n",
       "      <td>1stop</td>\n",
       "      <td>7958</td>\n",
       "    </tr>\n",
       "    <tr>\n",
       "      <th>4</th>\n",
       "      <td>4</td>\n",
       "      <td>SpiceJet</td>\n",
       "      <td>Kolkata</td>\n",
       "      <td>Mumbai</td>\n",
       "      <td>21:55</td>\n",
       "      <td>Fri, 25 Feb</td>\n",
       "      <td>09:35</td>\n",
       "      <td>11:40</td>\n",
       "      <td>1stop</td>\n",
       "      <td>7958</td>\n",
       "    </tr>\n",
       "  </tbody>\n",
       "</table>\n",
       "</div>"
      ],
      "text/plain": [
       "   Unnamed: 0   Airline Dept_City Arr_City Departure     Dep_date Arrival  \\\n",
       "0           0  Air Asia   Kolkata   Mumbai     20:00  Fri, 25 Feb   06:35   \n",
       "1           1  SpiceJet   Kolkata   Mumbai     09:35  Fri, 25 Feb   12:20   \n",
       "2           2  SpiceJet   Kolkata   Mumbai     21:55  Fri, 25 Feb   00:45   \n",
       "3           3  SpiceJet   Kolkata   Mumbai     21:55  Fri, 25 Feb   08:40   \n",
       "4           4  SpiceJet   Kolkata   Mumbai     21:55  Fri, 25 Feb   09:35   \n",
       "\n",
       "  Duration     Stops  Price  \n",
       "0    10:35     1stop   7957  \n",
       "1     2:45  non-stop   7958  \n",
       "2     2:50  non-stop   7958  \n",
       "3    10:45     1stop   7958  \n",
       "4    11:40     1stop   7958  "
      ]
     },
     "execution_count": 38,
     "metadata": {},
     "output_type": "execute_result"
    }
   ],
   "source": [
    "df.head()"
   ]
  },
  {
   "cell_type": "code",
   "execution_count": 209,
   "id": "14a325ee",
   "metadata": {},
   "outputs": [
    {
     "data": {
      "text/plain": [
       "(6275, 10)"
      ]
     },
     "execution_count": 209,
     "metadata": {},
     "output_type": "execute_result"
    }
   ],
   "source": [
    "df.shape"
   ]
  },
  {
   "cell_type": "markdown",
   "id": "b0bd8d1d",
   "metadata": {},
   "source": [
    "# Data Preprocessing"
   ]
  },
  {
   "cell_type": "code",
   "execution_count": 39,
   "id": "916e2679",
   "metadata": {},
   "outputs": [],
   "source": [
    "#droping the unwanted column\n",
    "df.drop('Unnamed: 0',axis=1,inplace=True)"
   ]
  },
  {
   "cell_type": "code",
   "execution_count": 40,
   "id": "ca61ebfa",
   "metadata": {},
   "outputs": [
    {
     "data": {
      "text/html": [
       "<div>\n",
       "<style scoped>\n",
       "    .dataframe tbody tr th:only-of-type {\n",
       "        vertical-align: middle;\n",
       "    }\n",
       "\n",
       "    .dataframe tbody tr th {\n",
       "        vertical-align: top;\n",
       "    }\n",
       "\n",
       "    .dataframe thead th {\n",
       "        text-align: right;\n",
       "    }\n",
       "</style>\n",
       "<table border=\"1\" class=\"dataframe\">\n",
       "  <thead>\n",
       "    <tr style=\"text-align: right;\">\n",
       "      <th></th>\n",
       "      <th>Airline</th>\n",
       "      <th>Dept_City</th>\n",
       "      <th>Arr_City</th>\n",
       "      <th>Departure</th>\n",
       "      <th>Dep_date</th>\n",
       "      <th>Arrival</th>\n",
       "      <th>Duration</th>\n",
       "      <th>Stops</th>\n",
       "      <th>Price</th>\n",
       "    </tr>\n",
       "  </thead>\n",
       "  <tbody>\n",
       "    <tr>\n",
       "      <th>0</th>\n",
       "      <td>Air Asia</td>\n",
       "      <td>Kolkata</td>\n",
       "      <td>Mumbai</td>\n",
       "      <td>20:00</td>\n",
       "      <td>Fri, 25 Feb</td>\n",
       "      <td>06:35</td>\n",
       "      <td>10:35</td>\n",
       "      <td>1stop</td>\n",
       "      <td>7957</td>\n",
       "    </tr>\n",
       "    <tr>\n",
       "      <th>1</th>\n",
       "      <td>SpiceJet</td>\n",
       "      <td>Kolkata</td>\n",
       "      <td>Mumbai</td>\n",
       "      <td>09:35</td>\n",
       "      <td>Fri, 25 Feb</td>\n",
       "      <td>12:20</td>\n",
       "      <td>2:45</td>\n",
       "      <td>non-stop</td>\n",
       "      <td>7958</td>\n",
       "    </tr>\n",
       "    <tr>\n",
       "      <th>2</th>\n",
       "      <td>SpiceJet</td>\n",
       "      <td>Kolkata</td>\n",
       "      <td>Mumbai</td>\n",
       "      <td>21:55</td>\n",
       "      <td>Fri, 25 Feb</td>\n",
       "      <td>00:45</td>\n",
       "      <td>2:50</td>\n",
       "      <td>non-stop</td>\n",
       "      <td>7958</td>\n",
       "    </tr>\n",
       "    <tr>\n",
       "      <th>3</th>\n",
       "      <td>SpiceJet</td>\n",
       "      <td>Kolkata</td>\n",
       "      <td>Mumbai</td>\n",
       "      <td>21:55</td>\n",
       "      <td>Fri, 25 Feb</td>\n",
       "      <td>08:40</td>\n",
       "      <td>10:45</td>\n",
       "      <td>1stop</td>\n",
       "      <td>7958</td>\n",
       "    </tr>\n",
       "    <tr>\n",
       "      <th>4</th>\n",
       "      <td>SpiceJet</td>\n",
       "      <td>Kolkata</td>\n",
       "      <td>Mumbai</td>\n",
       "      <td>21:55</td>\n",
       "      <td>Fri, 25 Feb</td>\n",
       "      <td>09:35</td>\n",
       "      <td>11:40</td>\n",
       "      <td>1stop</td>\n",
       "      <td>7958</td>\n",
       "    </tr>\n",
       "  </tbody>\n",
       "</table>\n",
       "</div>"
      ],
      "text/plain": [
       "    Airline Dept_City Arr_City Departure     Dep_date Arrival Duration  \\\n",
       "0  Air Asia   Kolkata   Mumbai     20:00  Fri, 25 Feb   06:35    10:35   \n",
       "1  SpiceJet   Kolkata   Mumbai     09:35  Fri, 25 Feb   12:20     2:45   \n",
       "2  SpiceJet   Kolkata   Mumbai     21:55  Fri, 25 Feb   00:45     2:50   \n",
       "3  SpiceJet   Kolkata   Mumbai     21:55  Fri, 25 Feb   08:40    10:45   \n",
       "4  SpiceJet   Kolkata   Mumbai     21:55  Fri, 25 Feb   09:35    11:40   \n",
       "\n",
       "      Stops  Price  \n",
       "0     1stop   7957  \n",
       "1  non-stop   7958  \n",
       "2  non-stop   7958  \n",
       "3     1stop   7958  \n",
       "4     1stop   7958  "
      ]
     },
     "execution_count": 40,
     "metadata": {},
     "output_type": "execute_result"
    }
   ],
   "source": [
    "df.head()"
   ]
  },
  {
   "cell_type": "code",
   "execution_count": 41,
   "id": "9b022d43",
   "metadata": {},
   "outputs": [
    {
     "data": {
      "text/plain": [
       "Airline      0\n",
       "Dept_City    0\n",
       "Arr_City     0\n",
       "Departure    0\n",
       "Dep_date     0\n",
       "Arrival      0\n",
       "Duration     0\n",
       "Stops        0\n",
       "Price        0\n",
       "dtype: int64"
      ]
     },
     "execution_count": 41,
     "metadata": {},
     "output_type": "execute_result"
    }
   ],
   "source": [
    "# checking the null value\n",
    "df.isnull().sum()"
   ]
  },
  {
   "cell_type": "markdown",
   "id": "8a66dfbc",
   "metadata": {},
   "source": [
    "There is no null data "
   ]
  },
  {
   "cell_type": "code",
   "execution_count": 42,
   "id": "450cb3a7",
   "metadata": {},
   "outputs": [],
   "source": [
    "#extracted features from date of journey\n",
    "df[['Day','DOJ']]=df['Dep_date'].str.split(',',expand=True)"
   ]
  },
  {
   "cell_type": "code",
   "execution_count": 43,
   "id": "fcf3a28c",
   "metadata": {},
   "outputs": [
    {
     "data": {
      "text/html": [
       "<div>\n",
       "<style scoped>\n",
       "    .dataframe tbody tr th:only-of-type {\n",
       "        vertical-align: middle;\n",
       "    }\n",
       "\n",
       "    .dataframe tbody tr th {\n",
       "        vertical-align: top;\n",
       "    }\n",
       "\n",
       "    .dataframe thead th {\n",
       "        text-align: right;\n",
       "    }\n",
       "</style>\n",
       "<table border=\"1\" class=\"dataframe\">\n",
       "  <thead>\n",
       "    <tr style=\"text-align: right;\">\n",
       "      <th></th>\n",
       "      <th>Airline</th>\n",
       "      <th>Dept_City</th>\n",
       "      <th>Arr_City</th>\n",
       "      <th>Departure</th>\n",
       "      <th>Dep_date</th>\n",
       "      <th>Arrival</th>\n",
       "      <th>Duration</th>\n",
       "      <th>Stops</th>\n",
       "      <th>Price</th>\n",
       "      <th>Day</th>\n",
       "      <th>DOJ</th>\n",
       "    </tr>\n",
       "  </thead>\n",
       "  <tbody>\n",
       "    <tr>\n",
       "      <th>0</th>\n",
       "      <td>Air Asia</td>\n",
       "      <td>Kolkata</td>\n",
       "      <td>Mumbai</td>\n",
       "      <td>20:00</td>\n",
       "      <td>Fri, 25 Feb</td>\n",
       "      <td>06:35</td>\n",
       "      <td>10:35</td>\n",
       "      <td>1stop</td>\n",
       "      <td>7957</td>\n",
       "      <td>Fri</td>\n",
       "      <td>25 Feb</td>\n",
       "    </tr>\n",
       "    <tr>\n",
       "      <th>1</th>\n",
       "      <td>SpiceJet</td>\n",
       "      <td>Kolkata</td>\n",
       "      <td>Mumbai</td>\n",
       "      <td>09:35</td>\n",
       "      <td>Fri, 25 Feb</td>\n",
       "      <td>12:20</td>\n",
       "      <td>2:45</td>\n",
       "      <td>non-stop</td>\n",
       "      <td>7958</td>\n",
       "      <td>Fri</td>\n",
       "      <td>25 Feb</td>\n",
       "    </tr>\n",
       "    <tr>\n",
       "      <th>2</th>\n",
       "      <td>SpiceJet</td>\n",
       "      <td>Kolkata</td>\n",
       "      <td>Mumbai</td>\n",
       "      <td>21:55</td>\n",
       "      <td>Fri, 25 Feb</td>\n",
       "      <td>00:45</td>\n",
       "      <td>2:50</td>\n",
       "      <td>non-stop</td>\n",
       "      <td>7958</td>\n",
       "      <td>Fri</td>\n",
       "      <td>25 Feb</td>\n",
       "    </tr>\n",
       "    <tr>\n",
       "      <th>3</th>\n",
       "      <td>SpiceJet</td>\n",
       "      <td>Kolkata</td>\n",
       "      <td>Mumbai</td>\n",
       "      <td>21:55</td>\n",
       "      <td>Fri, 25 Feb</td>\n",
       "      <td>08:40</td>\n",
       "      <td>10:45</td>\n",
       "      <td>1stop</td>\n",
       "      <td>7958</td>\n",
       "      <td>Fri</td>\n",
       "      <td>25 Feb</td>\n",
       "    </tr>\n",
       "    <tr>\n",
       "      <th>4</th>\n",
       "      <td>SpiceJet</td>\n",
       "      <td>Kolkata</td>\n",
       "      <td>Mumbai</td>\n",
       "      <td>21:55</td>\n",
       "      <td>Fri, 25 Feb</td>\n",
       "      <td>09:35</td>\n",
       "      <td>11:40</td>\n",
       "      <td>1stop</td>\n",
       "      <td>7958</td>\n",
       "      <td>Fri</td>\n",
       "      <td>25 Feb</td>\n",
       "    </tr>\n",
       "  </tbody>\n",
       "</table>\n",
       "</div>"
      ],
      "text/plain": [
       "    Airline Dept_City Arr_City Departure     Dep_date Arrival Duration  \\\n",
       "0  Air Asia   Kolkata   Mumbai     20:00  Fri, 25 Feb   06:35    10:35   \n",
       "1  SpiceJet   Kolkata   Mumbai     09:35  Fri, 25 Feb   12:20     2:45   \n",
       "2  SpiceJet   Kolkata   Mumbai     21:55  Fri, 25 Feb   00:45     2:50   \n",
       "3  SpiceJet   Kolkata   Mumbai     21:55  Fri, 25 Feb   08:40    10:45   \n",
       "4  SpiceJet   Kolkata   Mumbai     21:55  Fri, 25 Feb   09:35    11:40   \n",
       "\n",
       "      Stops  Price  Day      DOJ  \n",
       "0     1stop   7957  Fri   25 Feb  \n",
       "1  non-stop   7958  Fri   25 Feb  \n",
       "2  non-stop   7958  Fri   25 Feb  \n",
       "3     1stop   7958  Fri   25 Feb  \n",
       "4     1stop   7958  Fri   25 Feb  "
      ]
     },
     "execution_count": 43,
     "metadata": {},
     "output_type": "execute_result"
    }
   ],
   "source": [
    "df.head()"
   ]
  },
  {
   "cell_type": "code",
   "execution_count": 44,
   "id": "6c480217",
   "metadata": {},
   "outputs": [],
   "source": [
    "#dropped the column after feature extraction\n",
    "df.drop('Dep_date',axis=1,inplace=True)"
   ]
  },
  {
   "cell_type": "code",
   "execution_count": 45,
   "id": "c67b7bee",
   "metadata": {},
   "outputs": [
    {
     "data": {
      "text/plain": [
       " 05 Mar    3433\n",
       " 25 Feb    2427\n",
       " 28 Mar     415\n",
       "Name: DOJ, dtype: int64"
      ]
     },
     "execution_count": 45,
     "metadata": {},
     "output_type": "execute_result"
    }
   ],
   "source": [
    "df['DOJ'].value_counts()"
   ]
  },
  {
   "cell_type": "code",
   "execution_count": 46,
   "id": "19bd5caf",
   "metadata": {},
   "outputs": [
    {
     "data": {
      "text/plain": [
       "0        25 Feb\n",
       "1        25 Feb\n",
       "2        25 Feb\n",
       "3        25 Feb\n",
       "4        25 Feb\n",
       "         ...   \n",
       "6270     28 Mar\n",
       "6271     28 Mar\n",
       "6272     28 Mar\n",
       "6273     28 Mar\n",
       "6274     28 Mar\n",
       "Name: DOJ, Length: 6275, dtype: object"
      ]
     },
     "execution_count": 46,
     "metadata": {},
     "output_type": "execute_result"
    }
   ],
   "source": [
    "df['DOJ']"
   ]
  },
  {
   "cell_type": "code",
   "execution_count": 47,
   "id": "13896f06",
   "metadata": {},
   "outputs": [],
   "source": [
    "df1=df[df['DOJ']==' 28 Mar']"
   ]
  },
  {
   "cell_type": "code",
   "execution_count": 48,
   "id": "7816b4a8",
   "metadata": {},
   "outputs": [
    {
     "data": {
      "text/plain": [
       "Chennai      153\n",
       "Bangalore    148\n",
       "Ahmedabad    114\n",
       "Name: Dept_City, dtype: int64"
      ]
     },
     "execution_count": 48,
     "metadata": {},
     "output_type": "execute_result"
    }
   ],
   "source": [
    "df1['Dept_City'].value_counts()"
   ]
  },
  {
   "cell_type": "code",
   "execution_count": 49,
   "id": "d7ea3840",
   "metadata": {},
   "outputs": [
    {
     "data": {
      "text/plain": [
       "New Delhi      168\n",
       "Kolkata         84\n",
       "Mumbai          72\n",
       "Bhubaneswar     64\n",
       "Jaipur          27\n",
       "Name: Arr_City, dtype: int64"
      ]
     },
     "execution_count": 49,
     "metadata": {},
     "output_type": "execute_result"
    }
   ],
   "source": [
    "df1['Arr_City'].value_counts()"
   ]
  },
  {
   "cell_type": "code",
   "execution_count": 61,
   "id": "fc991e29",
   "metadata": {},
   "outputs": [],
   "source": [
    "#creating column from duration after converting into minute\n",
    "df['Duration_mnt']=df['Duration'].str.split(':').apply(lambda x: int(x[0]) * 60 + int(x[1]))"
   ]
  },
  {
   "cell_type": "code",
   "execution_count": 62,
   "id": "230a274d",
   "metadata": {},
   "outputs": [],
   "source": [
    "df.drop('Duration',axis=1,inplace=True)"
   ]
  },
  {
   "cell_type": "code",
   "execution_count": 63,
   "id": "39c7e00e",
   "metadata": {},
   "outputs": [],
   "source": [
    "# extracting the only minutes \n",
    "df['Departure']=df.Departure.str.split(':').str[0]\n",
    "df['Arrival']=df.Arrival.str.split(':').str[0]"
   ]
  },
  {
   "cell_type": "code",
   "execution_count": 64,
   "id": "5ba1e0c6",
   "metadata": {},
   "outputs": [],
   "source": [
    "df[['Departure','Arrival']]=df[['Departure','Arrival']].apply(pd.to_numeric)"
   ]
  },
  {
   "cell_type": "code",
   "execution_count": 65,
   "id": "3e86546f",
   "metadata": {},
   "outputs": [],
   "source": [
    "def set_timing(x):\n",
    "    if (x > 4) and (x <=8):\n",
    "        return 'Early Morning'\n",
    "    elif (x > 8) and (x <=12):\n",
    "        return 'Morning'\n",
    "    elif (x > 12) and (x <= 16):\n",
    "        return 'Noon'\n",
    "    elif (x >16) and (x <= 20):\n",
    "        return 'Eve'\n",
    "    elif (x >20) and (x <=24):\n",
    "        return 'Night'\n",
    "    elif (x <= 4):\n",
    "        return 'Late Night'"
   ]
  },
  {
   "cell_type": "code",
   "execution_count": 66,
   "id": "289788f1",
   "metadata": {},
   "outputs": [],
   "source": [
    "df['Departure']=df['Departure'].apply(set_timing)\n",
    "df['Arrival']=df['Arrival'].apply(set_timing)"
   ]
  },
  {
   "cell_type": "code",
   "execution_count": 67,
   "id": "28affb4a",
   "metadata": {
    "scrolled": true
   },
   "outputs": [
    {
     "name": "stdout",
     "output_type": "stream",
     "text": [
      "<class 'pandas.core.frame.DataFrame'>\n",
      "RangeIndex: 6275 entries, 0 to 6274\n",
      "Data columns (total 10 columns):\n",
      " #   Column        Non-Null Count  Dtype \n",
      "---  ------        --------------  ----- \n",
      " 0   Airline       6275 non-null   object\n",
      " 1   Dept_City     6275 non-null   object\n",
      " 2   Arr_City      6275 non-null   object\n",
      " 3   Departure     6275 non-null   object\n",
      " 4   Arrival       6275 non-null   object\n",
      " 5   Stops         6275 non-null   object\n",
      " 6   Price         6275 non-null   int64 \n",
      " 7   Day           6275 non-null   object\n",
      " 8   DOJ           6275 non-null   object\n",
      " 9   Duration_mnt  6275 non-null   int64 \n",
      "dtypes: int64(2), object(8)\n",
      "memory usage: 490.4+ KB\n"
     ]
    }
   ],
   "source": [
    "df.info()"
   ]
  },
  {
   "cell_type": "code",
   "execution_count": 68,
   "id": "06c75eaa",
   "metadata": {},
   "outputs": [
    {
     "data": {
      "text/html": [
       "<div>\n",
       "<style scoped>\n",
       "    .dataframe tbody tr th:only-of-type {\n",
       "        vertical-align: middle;\n",
       "    }\n",
       "\n",
       "    .dataframe tbody tr th {\n",
       "        vertical-align: top;\n",
       "    }\n",
       "\n",
       "    .dataframe thead th {\n",
       "        text-align: right;\n",
       "    }\n",
       "</style>\n",
       "<table border=\"1\" class=\"dataframe\">\n",
       "  <thead>\n",
       "    <tr style=\"text-align: right;\">\n",
       "      <th></th>\n",
       "      <th>Airline</th>\n",
       "      <th>Dept_City</th>\n",
       "      <th>Arr_City</th>\n",
       "      <th>Departure</th>\n",
       "      <th>Arrival</th>\n",
       "      <th>Stops</th>\n",
       "      <th>Price</th>\n",
       "      <th>Day</th>\n",
       "      <th>DOJ</th>\n",
       "      <th>Duration_mnt</th>\n",
       "    </tr>\n",
       "  </thead>\n",
       "  <tbody>\n",
       "    <tr>\n",
       "      <th>0</th>\n",
       "      <td>Air Asia</td>\n",
       "      <td>Kolkata</td>\n",
       "      <td>Mumbai</td>\n",
       "      <td>Eve</td>\n",
       "      <td>Early Morning</td>\n",
       "      <td>1stop</td>\n",
       "      <td>7957</td>\n",
       "      <td>Fri</td>\n",
       "      <td>25 Feb</td>\n",
       "      <td>635</td>\n",
       "    </tr>\n",
       "    <tr>\n",
       "      <th>1</th>\n",
       "      <td>SpiceJet</td>\n",
       "      <td>Kolkata</td>\n",
       "      <td>Mumbai</td>\n",
       "      <td>Morning</td>\n",
       "      <td>Morning</td>\n",
       "      <td>non-stop</td>\n",
       "      <td>7958</td>\n",
       "      <td>Fri</td>\n",
       "      <td>25 Feb</td>\n",
       "      <td>165</td>\n",
       "    </tr>\n",
       "    <tr>\n",
       "      <th>2</th>\n",
       "      <td>SpiceJet</td>\n",
       "      <td>Kolkata</td>\n",
       "      <td>Mumbai</td>\n",
       "      <td>Night</td>\n",
       "      <td>Late Night</td>\n",
       "      <td>non-stop</td>\n",
       "      <td>7958</td>\n",
       "      <td>Fri</td>\n",
       "      <td>25 Feb</td>\n",
       "      <td>170</td>\n",
       "    </tr>\n",
       "    <tr>\n",
       "      <th>3</th>\n",
       "      <td>SpiceJet</td>\n",
       "      <td>Kolkata</td>\n",
       "      <td>Mumbai</td>\n",
       "      <td>Night</td>\n",
       "      <td>Early Morning</td>\n",
       "      <td>1stop</td>\n",
       "      <td>7958</td>\n",
       "      <td>Fri</td>\n",
       "      <td>25 Feb</td>\n",
       "      <td>645</td>\n",
       "    </tr>\n",
       "    <tr>\n",
       "      <th>4</th>\n",
       "      <td>SpiceJet</td>\n",
       "      <td>Kolkata</td>\n",
       "      <td>Mumbai</td>\n",
       "      <td>Night</td>\n",
       "      <td>Morning</td>\n",
       "      <td>1stop</td>\n",
       "      <td>7958</td>\n",
       "      <td>Fri</td>\n",
       "      <td>25 Feb</td>\n",
       "      <td>700</td>\n",
       "    </tr>\n",
       "  </tbody>\n",
       "</table>\n",
       "</div>"
      ],
      "text/plain": [
       "    Airline Dept_City Arr_City Departure        Arrival     Stops  Price  Day  \\\n",
       "0  Air Asia   Kolkata   Mumbai       Eve  Early Morning     1stop   7957  Fri   \n",
       "1  SpiceJet   Kolkata   Mumbai   Morning        Morning  non-stop   7958  Fri   \n",
       "2  SpiceJet   Kolkata   Mumbai     Night     Late Night  non-stop   7958  Fri   \n",
       "3  SpiceJet   Kolkata   Mumbai     Night  Early Morning     1stop   7958  Fri   \n",
       "4  SpiceJet   Kolkata   Mumbai     Night        Morning     1stop   7958  Fri   \n",
       "\n",
       "       DOJ  Duration_mnt  \n",
       "0   25 Feb           635  \n",
       "1   25 Feb           165  \n",
       "2   25 Feb           170  \n",
       "3   25 Feb           645  \n",
       "4   25 Feb           700  "
      ]
     },
     "execution_count": 68,
     "metadata": {},
     "output_type": "execute_result"
    }
   ],
   "source": [
    "df.head()"
   ]
  },
  {
   "cell_type": "markdown",
   "id": "73934d00",
   "metadata": {},
   "source": [
    "# EDA"
   ]
  },
  {
   "cell_type": "markdown",
   "id": "43fa7fbf",
   "metadata": {},
   "source": [
    "## Univariate Analysis"
   ]
  },
  {
   "cell_type": "code",
   "execution_count": 72,
   "id": "5100a779",
   "metadata": {},
   "outputs": [
    {
     "data": {
      "text/plain": [
       "[Text(0, 0, 'Kolkata'),\n",
       " Text(1, 0, 'New Delhi'),\n",
       " Text(2, 0, 'Mumbai'),\n",
       " Text(3, 0, 'Chennai'),\n",
       " Text(4, 0, 'Bangalore'),\n",
       " Text(5, 0, 'Hyderabad'),\n",
       " Text(6, 0, 'Bhubaneswar'),\n",
       " Text(7, 0, 'Ahmedabad')]"
      ]
     },
     "execution_count": 72,
     "metadata": {},
     "output_type": "execute_result"
    },
    {
     "data": {
      "image/png": "[encoded data removed]",
      "text/plain": [
       "<Figure size 432x288 with 1 Axes>"
      ]
     },
     "metadata": {
      "needs_background": "light"
     },
     "output_type": "display_data"
    }
   ],
   "source": [
    "chart=sns.countplot(x='Dept_City',data=df)\n",
    "chart.set_xticklabels(chart.get_xticklabels(),rotation=90,horizontalalignment='right')"
   ]
  },
  {
   "cell_type": "markdown",
   "id": "9a177010",
   "metadata": {},
   "source": [
    "- Number of flights are maximum from  New Delhi\n",
    "- Mumbai is in second position\n",
    "- Bhubaneswar has comparatively less number of flight \n"
   ]
  },
  {
   "cell_type": "code",
   "execution_count": 73,
   "id": "aedf6596",
   "metadata": {},
   "outputs": [
    {
     "data": {
      "text/plain": [
       "[Text(0, 0, 'Air Asia'),\n",
       " Text(1, 0, 'SpiceJet'),\n",
       " Text(2, 0, 'Air India'),\n",
       " Text(3, 0, 'GO FIRST'),\n",
       " Text(4, 0, 'IndiGo'),\n",
       " Text(5, 0, 'Vistara'),\n",
       " Text(6, 0, 'Trujet')]"
      ]
     },
     "execution_count": 73,
     "metadata": {},
     "output_type": "execute_result"
    },
    {
     "data": {
      "image/png": "[encoded data removed]",
      "text/plain": [
       "<Figure size 432x288 with 1 Axes>"
      ]
     },
     "metadata": {
      "needs_background": "light"
     },
     "output_type": "display_data"
    }
   ],
   "source": [
    "chart=sns.countplot(x='Airline',data=df)\n",
    "chart.set_xticklabels(chart.get_xticklabels(),rotation=90,horizontalalignment='right')"
   ]
  },
  {
   "cell_type": "markdown",
   "id": "32bd4f0a",
   "metadata": {},
   "source": [
    "As per collected data through web scraping the followin observation \n",
    "found against the air lines:\n",
    "    - Vistara Airlines provides more number of services from \n",
    "    cosidedred cities\n",
    "    - Indigo is in next position to provide number of flight services "
   ]
  },
  {
   "cell_type": "code",
   "execution_count": 74,
   "id": "715015d5",
   "metadata": {},
   "outputs": [
    {
     "data": {
      "text/plain": [
       "<AxesSubplot:xlabel='Departure', ylabel='count'>"
      ]
     },
     "execution_count": 74,
     "metadata": {},
     "output_type": "execute_result"
    },
    {
     "data": {
      "image/png": "[encoded data removed]",
      "text/plain": [
       "<Figure size 432x288 with 1 Axes>"
      ]
     },
     "metadata": {
      "needs_background": "light"
     },
     "output_type": "display_data"
    }
   ],
   "source": [
    "sns.countplot(x='Departure',data=df)"
   ]
  },
  {
   "cell_type": "markdown",
   "id": "6df60680",
   "metadata": {},
   "source": [
    "\n",
    "- Most of the flight departure timing is at Early Morning or Evening\n",
    "\n",
    "- Very flights depart at Late Night "
   ]
  },
  {
   "cell_type": "code",
   "execution_count": 75,
   "id": "5b618f7f",
   "metadata": {},
   "outputs": [
    {
     "data": {
      "text/plain": [
       "<AxesSubplot:xlabel='Arrival', ylabel='count'>"
      ]
     },
     "execution_count": 75,
     "metadata": {},
     "output_type": "execute_result"
    },
    {
     "data": {
      "image/png": "[encoded data removed]",
      "text/plain": [
       "<Figure size 432x288 with 1 Axes>"
      ]
     },
     "metadata": {
      "needs_background": "light"
     },
     "output_type": "display_data"
    }
   ],
   "source": [
    "sns.countplot(x='Arrival',data=df)"
   ]
  },
  {
   "cell_type": "markdown",
   "id": "66ad67b0",
   "metadata": {},
   "source": [
    "- Most of the flight arrive at Eve, morning and night"
   ]
  },
  {
   "cell_type": "code",
   "execution_count": 77,
   "id": "6bdb0d76",
   "metadata": {},
   "outputs": [
    {
     "data": {
      "image/png": "[encoded data removed]",
      "text/plain": [
       "<Figure size 432x288 with 1 Axes>"
      ]
     },
     "metadata": {},
     "output_type": "display_data"
    }
   ],
   "source": [
    "plt.pie(x=df['Stops'].value_counts(),labels=df['Stops'].value_counts().index,\n",
    "            data=df,shadow=True,startangle=60,autopct='%1.1f%%',colors=['lightgreen','yellow','purple','red'],\n",
    "       wedgeprops={'linewidth':3.5})\n",
    "plt.setp(plt.title('Stops',fontsize=15),color='purple',style='italic')\n",
    "plt.axis('equal')\n",
    "plt.show()"
   ]
  },
  {
   "cell_type": "markdown",
   "id": "d433dece",
   "metadata": {},
   "source": [
    "- 74% of fligts are with 1 stop\n",
    "- 21.5% are non-stop"
   ]
  },
  {
   "cell_type": "code",
   "execution_count": null,
   "id": "e5e9e328",
   "metadata": {},
   "outputs": [],
   "source": []
  },
  {
   "cell_type": "code",
   "execution_count": 84,
   "id": "7c17e38e",
   "metadata": {},
   "outputs": [
    {
     "data": {
      "text/plain": [
       " 05 Mar    3433\n",
       " 25 Feb    2427\n",
       " 28 Mar     415\n",
       "Name: DOJ, dtype: int64"
      ]
     },
     "execution_count": 84,
     "metadata": {},
     "output_type": "execute_result"
    }
   ],
   "source": [
    "df['DOJ'].value_counts()"
   ]
  },
  {
   "cell_type": "code",
   "execution_count": 95,
   "id": "97409247",
   "metadata": {},
   "outputs": [
    {
     "data": {
      "text/plain": [
       "Chennai      153\n",
       "Bangalore    148\n",
       "Ahmedabad    114\n",
       "Name: Dept_City, dtype: int64"
      ]
     },
     "execution_count": 95,
     "metadata": {},
     "output_type": "execute_result"
    }
   ],
   "source": [
    "df1['Dept_City'].value_counts()\n"
   ]
  },
  {
   "cell_type": "code",
   "execution_count": 100,
   "id": "24e49995",
   "metadata": {},
   "outputs": [
    {
     "data": {
      "text/plain": [
       "New Delhi      168\n",
       "Kolkata         84\n",
       "Mumbai          72\n",
       "Bhubaneswar     64\n",
       "Jaipur          27\n",
       "Name: Arr_City, dtype: int64"
      ]
     },
     "execution_count": 100,
     "metadata": {},
     "output_type": "execute_result"
    }
   ],
   "source": [
    "df1['Arr_City'].value_counts()"
   ]
  },
  {
   "cell_type": "code",
   "execution_count": 99,
   "id": "499cc60c",
   "metadata": {},
   "outputs": [],
   "source": [
    "df2=df[(df['Dept_City']=='Chennai')|(df['Dept_City']=='Bangalore')|(df['Dept_City']=='Ahmedabad') ]"
   ]
  },
  {
   "cell_type": "code",
   "execution_count": 104,
   "id": "a0a7d0f6",
   "metadata": {},
   "outputs": [],
   "source": [
    "df2=df2[(df2['Arr_City']=='New Delhi')| (df2['Arr_City']=='Kolkata')|(df2['Arr_City']=='Mumbai')|(df2['Arr_City']=='Bhubaneswar')|(df2['Arr_City']=='Jaipur')]"
   ]
  },
  {
   "cell_type": "code",
   "execution_count": 106,
   "id": "7c818f30",
   "metadata": {},
   "outputs": [
    {
     "data": {
      "text/plain": [
       " 05 Mar    691\n",
       " 25 Feb    521\n",
       " 28 Mar    415\n",
       "Name: DOJ, dtype: int64"
      ]
     },
     "execution_count": 106,
     "metadata": {},
     "output_type": "execute_result"
    }
   ],
   "source": [
    "df2['DOJ'].value_counts()"
   ]
  },
  {
   "cell_type": "markdown",
   "id": "d8a5e22c",
   "metadata": {},
   "source": [
    "## Bivariate Analysis"
   ]
  },
  {
   "cell_type": "code",
   "execution_count": 112,
   "id": "33748bb0",
   "metadata": {},
   "outputs": [
    {
     "data": {
      "text/plain": [
       "<AxesSubplot:xlabel='Airline', ylabel='Price'>"
      ]
     },
     "execution_count": 112,
     "metadata": {},
     "output_type": "execute_result"
    },
    {
     "data": {
      "image/png": "[encoded data removed]",
      "text/plain": [
       "<Figure size 432x288 with 1 Axes>"
      ]
     },
     "metadata": {
      "needs_background": "light"
     },
     "output_type": "display_data"
    }
   ],
   "source": [
    "sns.barplot(x='Airline',y='Price',data=df)"
   ]
  },
  {
   "cell_type": "markdown",
   "id": "b00ea5f6",
   "metadata": {},
   "source": [
    "-- The most expensive airline in 'Air India'\n",
    "\n",
    "-- After 'Air India' ,'Vistara' is second expesive airline\n",
    "\n",
    "-- Rest all airline are average in price"
   ]
  },
  {
   "cell_type": "code",
   "execution_count": 115,
   "id": "062083fa",
   "metadata": {},
   "outputs": [
    {
     "data": {
      "text/plain": [
       "[Text(0, 0, 'Kolkata'),\n",
       " Text(1, 0, 'New Delhi'),\n",
       " Text(2, 0, 'Mumbai'),\n",
       " Text(3, 0, 'Chennai'),\n",
       " Text(4, 0, 'Bangalore'),\n",
       " Text(5, 0, 'Hyderabad'),\n",
       " Text(6, 0, 'Bhubaneswar'),\n",
       " Text(7, 0, 'Ahmedabad')]"
      ]
     },
     "execution_count": 115,
     "metadata": {},
     "output_type": "execute_result"
    },
    {
     "data": {
      "image/png": "[encoded data removed]",
      "text/plain": [
       "<Figure size 432x288 with 1 Axes>"
      ]
     },
     "metadata": {
      "needs_background": "light"
     },
     "output_type": "display_data"
    }
   ],
   "source": [
    "chart=sns.barplot(x='Dept_City',y='Price',data=df)\n",
    "chart.set_xticklabels(chart.get_xticklabels(),rotation=90,horizontalalignment='right')"
   ]
  },
  {
   "cell_type": "markdown",
   "id": "3b2f9bc6",
   "metadata": {},
   "source": [
    "Flight from Bhubaneswar the flight price is little higher\n"
   ]
  },
  {
   "cell_type": "code",
   "execution_count": 116,
   "id": "fb2d85c4",
   "metadata": {},
   "outputs": [
    {
     "data": {
      "text/plain": [
       "[Text(0, 0, 'Mumbai'),\n",
       " Text(1, 0, 'New Delhi'),\n",
       " Text(2, 0, 'Chennai'),\n",
       " Text(3, 0, 'Bangalore'),\n",
       " Text(4, 0, 'Hyderabad'),\n",
       " Text(5, 0, 'Kolkata'),\n",
       " Text(6, 0, 'Goa'),\n",
       " Text(7, 0, 'Ahmedabad'),\n",
       " Text(8, 0, 'Bhubaneswar'),\n",
       " Text(9, 0, 'Jaipur')]"
      ]
     },
     "execution_count": 116,
     "metadata": {},
     "output_type": "execute_result"
    },
    {
     "data": {
      "image/png": "[encoded data removed]",
      "text/plain": [
       "<Figure size 432x288 with 1 Axes>"
      ]
     },
     "metadata": {
      "needs_background": "light"
     },
     "output_type": "display_data"
    }
   ],
   "source": [
    "chart=sns.barplot(x='Arr_City',y='Price',data=df)\n",
    "chart.set_xticklabels(chart.get_xticklabels(),rotation=90,horizontalalignment='right')"
   ]
  },
  {
   "cell_type": "markdown",
   "id": "5bfbb26d",
   "metadata": {},
   "source": [
    "Flights which have 'Goa' as destination city has higher ticket price"
   ]
  },
  {
   "cell_type": "code",
   "execution_count": 117,
   "id": "3018e94c",
   "metadata": {},
   "outputs": [
    {
     "data": {
      "text/plain": [
       "[Text(0, 0, 'Eve'),\n",
       " Text(1, 0, 'Morning'),\n",
       " Text(2, 0, 'Night'),\n",
       " Text(3, 0, 'Late Night'),\n",
       " Text(4, 0, 'Early Morning'),\n",
       " Text(5, 0, 'Noon')]"
      ]
     },
     "execution_count": 117,
     "metadata": {},
     "output_type": "execute_result"
    },
    {
     "data": {
      "image/png": "[encoded data removed]",
      "text/plain": [
       "<Figure size 432x288 with 1 Axes>"
      ]
     },
     "metadata": {
      "needs_background": "light"
     },
     "output_type": "display_data"
    }
   ],
   "source": [
    "chart=sns.barplot(x='Departure',y='Price',data=df)\n",
    "chart.set_xticklabels(chart.get_xticklabels(),rotation=90,horizontalalignment='right')"
   ]
  },
  {
   "cell_type": "markdown",
   "id": "b525e7d0",
   "metadata": {},
   "source": [
    "-- Flights which have departure time between 08am to 1159 am the has higher price\n",
    " \n",
    "-- Flights which have departure time between 1200am to 0400 the has lower price\n"
   ]
  },
  {
   "cell_type": "code",
   "execution_count": 119,
   "id": "b0e668d8",
   "metadata": {},
   "outputs": [
    {
     "data": {
      "text/plain": [
       "[Text(0, 0, 'Early Morning'),\n",
       " Text(1, 0, 'Morning'),\n",
       " Text(2, 0, 'Late Night'),\n",
       " Text(3, 0, 'Noon'),\n",
       " Text(4, 0, 'Night'),\n",
       " Text(5, 0, 'Eve')]"
      ]
     },
     "execution_count": 119,
     "metadata": {},
     "output_type": "execute_result"
    },
    {
     "data": {
      "image/png": "[encoded data removed]",
      "text/plain": [
       "<Figure size 432x288 with 1 Axes>"
      ]
     },
     "metadata": {
      "needs_background": "light"
     },
     "output_type": "display_data"
    }
   ],
   "source": [
    "chart=sns.barplot(x='Arrival',y='Price',data=df)\n",
    "chart.set_xticklabels(chart.get_xticklabels(),rotation=90,horizontalalignment='right')"
   ]
  },
  {
   "cell_type": "markdown",
   "id": "be249d36",
   "metadata": {},
   "source": [
    "-- Flights which have arrival time in evening the has higher price\n",
    " \n",
    "-- Flights which have arrival time Late night  the has lower price\n"
   ]
  },
  {
   "cell_type": "code",
   "execution_count": 120,
   "id": "66f80734",
   "metadata": {},
   "outputs": [
    {
     "data": {
      "text/plain": [
       "[Text(0, 0, '1stop'),\n",
       " Text(1, 0, 'non-stop'),\n",
       " Text(2, 0, '2stop'),\n",
       " Text(3, 0, '3stop'),\n",
       " Text(4, 0, '4stop')]"
      ]
     },
     "execution_count": 120,
     "metadata": {},
     "output_type": "execute_result"
    },
    {
     "data": {
      "image/png": "[encoded data removed]",
      "text/plain": [
       "<Figure size 432x288 with 1 Axes>"
      ]
     },
     "metadata": {
      "needs_background": "light"
     },
     "output_type": "display_data"
    }
   ],
   "source": [
    "chart=sns.barplot(x='Stops',y='Price',data=df)\n",
    "chart.set_xticklabels(chart.get_xticklabels(),rotation=90,horizontalalignment='right')"
   ]
  },
  {
   "cell_type": "markdown",
   "id": "0d973cdf",
   "metadata": {},
   "source": [
    "-- Non stop flight from source to destination has lower price\n",
    "\n",
    "-- Flights which has more than one stop has higher ticket pricer\n"
   ]
  },
  {
   "cell_type": "code",
   "execution_count": 122,
   "id": "98971b19",
   "metadata": {},
   "outputs": [
    {
     "data": {
      "text/plain": [
       "[Text(0, 0, 'Fri'), Text(1, 0, 'Sat'), Text(2, 0, 'Mon')]"
      ]
     },
     "execution_count": 122,
     "metadata": {},
     "output_type": "execute_result"
    },
    {
     "data": {
      "image/png": "[encoded data removed]",
      "text/plain": [
       "<Figure size 432x288 with 1 Axes>"
      ]
     },
     "metadata": {
      "needs_background": "light"
     },
     "output_type": "display_data"
    }
   ],
   "source": [
    "chart=sns.barplot(x='Day',y='Price',data=df)\n",
    "chart.set_xticklabels(chart.get_xticklabels(),rotation=90,horizontalalignment='right')"
   ]
  },
  {
   "cell_type": "markdown",
   "id": "d83ff60b",
   "metadata": {},
   "source": [
    "Flight which has departure day as 'Friday' has higher price than Saturday of Monday"
   ]
  },
  {
   "cell_type": "code",
   "execution_count": 124,
   "id": "95f05f54",
   "metadata": {},
   "outputs": [
    {
     "data": {
      "text/plain": [
       "[Text(-250.0, 0, ''),\n",
       " Text(0.0, 0, ''),\n",
       " Text(250.0, 0, ''),\n",
       " Text(500.0, 0, ''),\n",
       " Text(750.0, 0, ''),\n",
       " Text(1000.0, 0, ''),\n",
       " Text(1250.0, 0, ''),\n",
       " Text(1500.0, 0, ''),\n",
       " Text(1750.0, 0, ''),\n",
       " Text(2000.0, 0, '')]"
      ]
     },
     "execution_count": 124,
     "metadata": {},
     "output_type": "execute_result"
    },
    {
     "data": {
      "image/png": "[encoded data removed]",
      "text/plain": [
       "<Figure size 432x288 with 1 Axes>"
      ]
     },
     "metadata": {
      "needs_background": "light"
     },
     "output_type": "display_data"
    }
   ],
   "source": [
    "chart=sns.scatterplot(x='Duration_mnt',y='Price',data=df,hue='Stops')\n",
    "chart.set_xticklabels(chart.get_xticklabels(),rotation=90,horizontalalignment='right')"
   ]
  },
  {
   "cell_type": "markdown",
   "id": "20214b87",
   "metadata": {},
   "source": [
    "- The ticket price has increased when the travel duration hase increased"
   ]
  },
  {
   "cell_type": "code",
   "execution_count": 125,
   "id": "4a344e76",
   "metadata": {},
   "outputs": [
    {
     "data": {
      "text/html": [
       "<div>\n",
       "<style scoped>\n",
       "    .dataframe tbody tr th:only-of-type {\n",
       "        vertical-align: middle;\n",
       "    }\n",
       "\n",
       "    .dataframe tbody tr th {\n",
       "        vertical-align: top;\n",
       "    }\n",
       "\n",
       "    .dataframe thead th {\n",
       "        text-align: right;\n",
       "    }\n",
       "</style>\n",
       "<table border=\"1\" class=\"dataframe\">\n",
       "  <thead>\n",
       "    <tr style=\"text-align: right;\">\n",
       "      <th></th>\n",
       "      <th>Airline</th>\n",
       "      <th>Dept_City</th>\n",
       "      <th>Arr_City</th>\n",
       "      <th>Departure</th>\n",
       "      <th>Arrival</th>\n",
       "      <th>Stops</th>\n",
       "      <th>Price</th>\n",
       "      <th>Day</th>\n",
       "      <th>DOJ</th>\n",
       "      <th>Duration_mnt</th>\n",
       "    </tr>\n",
       "  </thead>\n",
       "  <tbody>\n",
       "    <tr>\n",
       "      <th>1454</th>\n",
       "      <td>SpiceJet</td>\n",
       "      <td>Chennai</td>\n",
       "      <td>Kolkata</td>\n",
       "      <td>Early Morning</td>\n",
       "      <td>Early Morning</td>\n",
       "      <td>1stop</td>\n",
       "      <td>5357</td>\n",
       "      <td>Fri</td>\n",
       "      <td>25 Feb</td>\n",
       "      <td>1450</td>\n",
       "    </tr>\n",
       "    <tr>\n",
       "      <th>1455</th>\n",
       "      <td>IndiGo</td>\n",
       "      <td>Chennai</td>\n",
       "      <td>Kolkata</td>\n",
       "      <td>Eve</td>\n",
       "      <td>Night</td>\n",
       "      <td>non-stop</td>\n",
       "      <td>7037</td>\n",
       "      <td>Fri</td>\n",
       "      <td>25 Feb</td>\n",
       "      <td>130</td>\n",
       "    </tr>\n",
       "    <tr>\n",
       "      <th>1456</th>\n",
       "      <td>IndiGo</td>\n",
       "      <td>Chennai</td>\n",
       "      <td>Kolkata</td>\n",
       "      <td>Eve</td>\n",
       "      <td>Eve</td>\n",
       "      <td>non-stop</td>\n",
       "      <td>7457</td>\n",
       "      <td>Fri</td>\n",
       "      <td>25 Feb</td>\n",
       "      <td>125</td>\n",
       "    </tr>\n",
       "    <tr>\n",
       "      <th>1457</th>\n",
       "      <td>IndiGo</td>\n",
       "      <td>Chennai</td>\n",
       "      <td>Kolkata</td>\n",
       "      <td>Noon</td>\n",
       "      <td>Eve</td>\n",
       "      <td>non-stop</td>\n",
       "      <td>7877</td>\n",
       "      <td>Fri</td>\n",
       "      <td>25 Feb</td>\n",
       "      <td>140</td>\n",
       "    </tr>\n",
       "    <tr>\n",
       "      <th>1458</th>\n",
       "      <td>IndiGo</td>\n",
       "      <td>Chennai</td>\n",
       "      <td>Kolkata</td>\n",
       "      <td>Early Morning</td>\n",
       "      <td>Morning</td>\n",
       "      <td>non-stop</td>\n",
       "      <td>9032</td>\n",
       "      <td>Fri</td>\n",
       "      <td>25 Feb</td>\n",
       "      <td>145</td>\n",
       "    </tr>\n",
       "  </tbody>\n",
       "</table>\n",
       "</div>"
      ],
      "text/plain": [
       "       Airline Dept_City Arr_City      Departure        Arrival     Stops  \\\n",
       "1454  SpiceJet   Chennai  Kolkata  Early Morning  Early Morning     1stop   \n",
       "1455    IndiGo   Chennai  Kolkata            Eve          Night  non-stop   \n",
       "1456    IndiGo   Chennai  Kolkata            Eve            Eve  non-stop   \n",
       "1457    IndiGo   Chennai  Kolkata           Noon            Eve  non-stop   \n",
       "1458    IndiGo   Chennai  Kolkata  Early Morning        Morning  non-stop   \n",
       "\n",
       "      Price  Day      DOJ  Duration_mnt  \n",
       "1454   5357  Fri   25 Feb          1450  \n",
       "1455   7037  Fri   25 Feb           130  \n",
       "1456   7457  Fri   25 Feb           125  \n",
       "1457   7877  Fri   25 Feb           140  \n",
       "1458   9032  Fri   25 Feb           145  "
      ]
     },
     "execution_count": 125,
     "metadata": {},
     "output_type": "execute_result"
    }
   ],
   "source": [
    "df2.head()"
   ]
  },
  {
   "cell_type": "code",
   "execution_count": 131,
   "id": "3fd9b40b",
   "metadata": {},
   "outputs": [],
   "source": [
    "df2['DOJ']=df2['DOJ'].replace({' 25 Feb':1,' 05 Mar':8,' 28 Mar':31})"
   ]
  },
  {
   "cell_type": "code",
   "execution_count": 132,
   "id": "211dd052",
   "metadata": {},
   "outputs": [
    {
     "data": {
      "text/plain": [
       "<AxesSubplot:xlabel='DOJ', ylabel='Price'>"
      ]
     },
     "execution_count": 132,
     "metadata": {},
     "output_type": "execute_result"
    },
    {
     "data": {
      "image/png": "[encoded data removed]",
      "text/plain": [
       "<Figure size 432x288 with 1 Axes>"
      ]
     },
     "metadata": {
      "needs_background": "light"
     },
     "output_type": "display_data"
    }
   ],
   "source": [
    "sns.barplot(y='Price',x='DOJ',data=df2)"
   ]
  },
  {
   "cell_type": "markdown",
   "id": "9179a8ef",
   "metadata": {},
   "source": [
    "- Next day flight has high price\n",
    "- Flights after 8 days has less price\n",
    "- Flights after 31 days much less price "
   ]
  },
  {
   "cell_type": "code",
   "execution_count": 109,
   "id": "e79f6a81",
   "metadata": {},
   "outputs": [
    {
     "name": "stdout",
     "output_type": "stream",
     "text": [
      "<class 'pandas.core.frame.DataFrame'>\n",
      "RangeIndex: 6275 entries, 0 to 6274\n",
      "Data columns (total 10 columns):\n",
      " #   Column        Non-Null Count  Dtype \n",
      "---  ------        --------------  ----- \n",
      " 0   Airline       6275 non-null   object\n",
      " 1   Dept_City     6275 non-null   object\n",
      " 2   Arr_City      6275 non-null   object\n",
      " 3   Departure     6275 non-null   object\n",
      " 4   Arrival       6275 non-null   object\n",
      " 5   Stops         6275 non-null   object\n",
      " 6   Price         6275 non-null   int64 \n",
      " 7   Day           6275 non-null   object\n",
      " 8   DOJ           6275 non-null   object\n",
      " 9   Duration_mnt  6275 non-null   int64 \n",
      "dtypes: int64(2), object(8)\n",
      "memory usage: 490.4+ KB\n"
     ]
    }
   ],
   "source": [
    "df.info()"
   ]
  },
  {
   "cell_type": "markdown",
   "id": "9cb8d2d6",
   "metadata": {},
   "source": [
    "# Data Encoding"
   ]
  },
  {
   "cell_type": "code",
   "execution_count": 133,
   "id": "524434e4",
   "metadata": {},
   "outputs": [],
   "source": [
    "df['DOJ']=df['DOJ'].replace({' 25 Feb':1,' 05 Mar':8,' 28 Mar':31})"
   ]
  },
  {
   "cell_type": "code",
   "execution_count": 134,
   "id": "3e1c1c4d",
   "metadata": {},
   "outputs": [],
   "source": [
    "df[\"Stops\"]=df[\"Stops\"].replace({\"non-stop\":0,\"1stop\":1,\"2stop\":2,\"3stop\":3,\"4stop\":4})"
   ]
  },
  {
   "cell_type": "code",
   "execution_count": 135,
   "id": "07c3eadb",
   "metadata": {},
   "outputs": [],
   "source": [
    "df[\"Departure\"]=df[\"Departure\"].replace({\"Early Morning\":1,\"Morning\":2,\"Noon\":3,\"Eve\":4,\"Night\":5,\"Late Night\":6})"
   ]
  },
  {
   "cell_type": "code",
   "execution_count": 136,
   "id": "5c41b820",
   "metadata": {},
   "outputs": [],
   "source": [
    "df[\"Arrival\"]=df[\"Arrival\"].replace({\"Early Morning\":1,\"Morning\":2,\"Noon\":3,\"Eve\":4,\"Night\":5,\"Late Night\":6})"
   ]
  },
  {
   "cell_type": "code",
   "execution_count": 137,
   "id": "9e2b1e86",
   "metadata": {},
   "outputs": [
    {
     "data": {
      "text/plain": [
       "New Delhi      1487\n",
       "Mumbai         1075\n",
       "Kolkata         969\n",
       "Bangalore       930\n",
       "Chennai         719\n",
       "Hyderabad       447\n",
       "Ahmedabad       405\n",
       "Bhubaneswar     243\n",
       "Name: Dept_City, dtype: int64"
      ]
     },
     "execution_count": 137,
     "metadata": {},
     "output_type": "execute_result"
    }
   ],
   "source": [
    "df['Dept_City'].value_counts()"
   ]
  },
  {
   "cell_type": "code",
   "execution_count": 140,
   "id": "3411b584",
   "metadata": {},
   "outputs": [],
   "source": [
    "df['Dept_City']=df['Dept_City'].replace({'New Delhi':1,'Mumbai':2,'Kolkata':3,'Bangalore':4,'Chennai':5,'Hyderabad':6,'Ahmedabad':7,'Bhubaneswar':8})"
   ]
  },
  {
   "cell_type": "code",
   "execution_count": 142,
   "id": "a7186be3",
   "metadata": {},
   "outputs": [
    {
     "data": {
      "text/plain": [
       "New Delhi      1306\n",
       "Mumbai         1079\n",
       "Kolkata         890\n",
       "Hyderabad       791\n",
       "Bangalore       764\n",
       "Chennai         415\n",
       "Bhubaneswar     364\n",
       "Goa             278\n",
       "Jaipur          229\n",
       "Ahmedabad       159\n",
       "Name: Arr_City, dtype: int64"
      ]
     },
     "execution_count": 142,
     "metadata": {},
     "output_type": "execute_result"
    }
   ],
   "source": [
    "\n",
    "df['Arr_City'].value_counts()"
   ]
  },
  {
   "cell_type": "code",
   "execution_count": 146,
   "id": "f9e15180",
   "metadata": {},
   "outputs": [],
   "source": [
    "df['Arr_City']=df['Arr_City'].replace({'New Delhi':1,'Mumbai':2,'Kolkata':3,'Bangalore':4,'Chennai':5,'Hyderabad':6,'Ahmedabad':7,'Bhubaneswar':8,'Jaipur':9,'Goa':10})"
   ]
  },
  {
   "cell_type": "code",
   "execution_count": 144,
   "id": "2c4596ef",
   "metadata": {},
   "outputs": [
    {
     "data": {
      "text/plain": [
       "New Delhi      1306\n",
       "Mumbai         1079\n",
       "Kolkata         890\n",
       "Hyderabad       791\n",
       "Bangalore       764\n",
       "Chennai         415\n",
       "Bhubaneswar     364\n",
       "Goa             278\n",
       "Jaipur          229\n",
       "Ahmedabad       159\n",
       "Name: Arr_City, dtype: int64"
      ]
     },
     "execution_count": 144,
     "metadata": {},
     "output_type": "execute_result"
    }
   ],
   "source": [
    "df['Arr_City'].value_counts()"
   ]
  },
  {
   "cell_type": "code",
   "execution_count": 153,
   "id": "cc1055a8",
   "metadata": {},
   "outputs": [
    {
     "data": {
      "text/plain": [
       "1    2751\n",
       "2    1239\n",
       "3    1180\n",
       "4     456\n",
       "5     384\n",
       "6     263\n",
       "7       2\n",
       "Name: Airline, dtype: int64"
      ]
     },
     "execution_count": 153,
     "metadata": {},
     "output_type": "execute_result"
    }
   ],
   "source": [
    "df['Airline'].value_counts()"
   ]
  },
  {
   "cell_type": "code",
   "execution_count": 152,
   "id": "43922079",
   "metadata": {},
   "outputs": [],
   "source": [
    "df['Airline']=df['Airline'].replace({'Vistara':1,'IndiGo':2,'Air India':3,'Air Asia':4,'GO FIRST':5,'SpiceJet':6,'Trujet':7})"
   ]
  },
  {
   "cell_type": "code",
   "execution_count": 158,
   "id": "fa1b8187",
   "metadata": {},
   "outputs": [],
   "source": [
    "df['Day']=df['Day'].replace({'Sat':1,'Fri':2,'Mon': 3})"
   ]
  },
  {
   "cell_type": "code",
   "execution_count": 159,
   "id": "b9307f39",
   "metadata": {},
   "outputs": [
    {
     "data": {
      "text/plain": [
       "1    3433\n",
       "2    2427\n",
       "3     415\n",
       "Name: Day, dtype: int64"
      ]
     },
     "execution_count": 159,
     "metadata": {},
     "output_type": "execute_result"
    }
   ],
   "source": [
    "df['Day'].value_counts()"
   ]
  },
  {
   "cell_type": "code",
   "execution_count": 160,
   "id": "11e69562",
   "metadata": {},
   "outputs": [
    {
     "name": "stdout",
     "output_type": "stream",
     "text": [
      "<class 'pandas.core.frame.DataFrame'>\n",
      "RangeIndex: 6275 entries, 0 to 6274\n",
      "Data columns (total 10 columns):\n",
      " #   Column        Non-Null Count  Dtype\n",
      "---  ------        --------------  -----\n",
      " 0   Airline       6275 non-null   int64\n",
      " 1   Dept_City     6275 non-null   int64\n",
      " 2   Arr_City      6275 non-null   int64\n",
      " 3   Departure     6275 non-null   int64\n",
      " 4   Arrival       6275 non-null   int64\n",
      " 5   Stops         6275 non-null   int64\n",
      " 6   Price         6275 non-null   int64\n",
      " 7   Day           6275 non-null   int64\n",
      " 8   DOJ           6275 non-null   int64\n",
      " 9   Duration_mnt  6275 non-null   int64\n",
      "dtypes: int64(10)\n",
      "memory usage: 490.4 KB\n"
     ]
    }
   ],
   "source": [
    "df.info()"
   ]
  },
  {
   "cell_type": "markdown",
   "id": "8d15edbd",
   "metadata": {},
   "source": [
    "# Correlation"
   ]
  },
  {
   "cell_type": "code",
   "execution_count": 161,
   "id": "1d544e2f",
   "metadata": {},
   "outputs": [
    {
     "data": {
      "text/plain": [
       "<AxesSubplot:>"
      ]
     },
     "execution_count": 161,
     "metadata": {},
     "output_type": "execute_result"
    },
    {
     "data": {
      "image/png": "[encoded data removed]",
      "text/plain": [
       "<Figure size 1080x1080 with 2 Axes>"
      ]
     },
     "metadata": {
      "needs_background": "light"
     },
     "output_type": "display_data"
    }
   ],
   "source": [
    "plt.figure(figsize=(15,15))\n",
    "sns.heatmap(df.corr(),annot=True)"
   ]
  },
  {
   "cell_type": "markdown",
   "id": "ae0638e7",
   "metadata": {},
   "source": [
    "- Ticket price is positively correlated with Duration_amount\n",
    " \n",
    "- Its also positively correlated with number of stops"
   ]
  },
  {
   "cell_type": "code",
   "execution_count": 164,
   "id": "23e56299",
   "metadata": {},
   "outputs": [
    {
     "data": {
      "image/png": "[encoded data removed]",
      "text/plain": [
       "<Figure size 1440x1800 with 10 Axes>"
      ]
     },
     "metadata": {
      "needs_background": "light"
     },
     "output_type": "display_data"
    }
   ],
   "source": [
    "plt.figure(figsize=(20,25))\n",
    "plotnum=1\n",
    "for col in df.columns:\n",
    "    if plotnum <=15:\n",
    "        ax=plt.subplot(5,3,plotnum)\n",
    "        sns.boxplot(df[col],color='purple')\n",
    "        plt.xlabel(col,fontsize=12)\n",
    "    plotnum+=1\n",
    "plt.show()"
   ]
  },
  {
   "cell_type": "markdown",
   "id": "e39b00f4",
   "metadata": {},
   "source": [
    "There is no such outliers , we can continue"
   ]
  },
  {
   "cell_type": "markdown",
   "id": "46495983",
   "metadata": {},
   "source": [
    "# Spliting of Features and Target"
   ]
  },
  {
   "cell_type": "code",
   "execution_count": 165,
   "id": "d4e40525",
   "metadata": {},
   "outputs": [],
   "source": [
    "x=df.drop(\"Price\",axis=1)\n",
    "y=df[\"Price\"]"
   ]
  },
  {
   "cell_type": "markdown",
   "id": "9b33db15",
   "metadata": {},
   "source": [
    "# Removing the Skewness"
   ]
  },
  {
   "cell_type": "code",
   "execution_count": 166,
   "id": "c5bf4ada",
   "metadata": {},
   "outputs": [
    {
     "data": {
      "text/plain": [
       "Airline         1.043250\n",
       "Dept_City       0.556853\n",
       "Arr_City        0.723172\n",
       "Departure       0.211199\n",
       "Arrival        -0.076643\n",
       "Stops          -0.307438\n",
       "Day             0.768533\n",
       "DOJ             2.261018\n",
       "Duration_mnt    0.700308\n",
       "dtype: float64"
      ]
     },
     "execution_count": 166,
     "metadata": {},
     "output_type": "execute_result"
    }
   ],
   "source": [
    "x.skew()"
   ]
  },
  {
   "cell_type": "markdown",
   "id": "3371200a",
   "metadata": {},
   "source": [
    "There is no such skewness"
   ]
  },
  {
   "cell_type": "markdown",
   "id": "eb976b1c",
   "metadata": {},
   "source": [
    "# Scaling of features"
   ]
  },
  {
   "cell_type": "code",
   "execution_count": 169,
   "id": "508da45b",
   "metadata": {},
   "outputs": [],
   "source": [
    "from sklearn.preprocessing import MinMaxScaler"
   ]
  },
  {
   "cell_type": "code",
   "execution_count": 174,
   "id": "587a92b9",
   "metadata": {},
   "outputs": [],
   "source": [
    "scaler=MinMaxScaler()\n",
    "df[['Duration_mnt']]=scaler.fit_transform(df[['Duration_mnt']])"
   ]
  },
  {
   "cell_type": "markdown",
   "id": "4f37208c",
   "metadata": {},
   "source": [
    "# Checking for MultiCollineariry "
   ]
  },
  {
   "cell_type": "code",
   "execution_count": 175,
   "id": "07edcd37",
   "metadata": {},
   "outputs": [
    {
     "data": {
      "text/html": [
       "<div>\n",
       "<style scoped>\n",
       "    .dataframe tbody tr th:only-of-type {\n",
       "        vertical-align: middle;\n",
       "    }\n",
       "\n",
       "    .dataframe tbody tr th {\n",
       "        vertical-align: top;\n",
       "    }\n",
       "\n",
       "    .dataframe thead th {\n",
       "        text-align: right;\n",
       "    }\n",
       "</style>\n",
       "<table border=\"1\" class=\"dataframe\">\n",
       "  <thead>\n",
       "    <tr style=\"text-align: right;\">\n",
       "      <th></th>\n",
       "      <th>vif</th>\n",
       "      <th>Features</th>\n",
       "    </tr>\n",
       "  </thead>\n",
       "  <tbody>\n",
       "    <tr>\n",
       "      <th>0</th>\n",
       "      <td>3.311617</td>\n",
       "      <td>Airline</td>\n",
       "    </tr>\n",
       "    <tr>\n",
       "      <th>1</th>\n",
       "      <td>3.806811</td>\n",
       "      <td>Dept_City</td>\n",
       "    </tr>\n",
       "    <tr>\n",
       "      <th>2</th>\n",
       "      <td>3.088463</td>\n",
       "      <td>Arr_City</td>\n",
       "    </tr>\n",
       "    <tr>\n",
       "      <th>3</th>\n",
       "      <td>4.697100</td>\n",
       "      <td>Departure</td>\n",
       "    </tr>\n",
       "    <tr>\n",
       "      <th>4</th>\n",
       "      <td>5.263618</td>\n",
       "      <td>Arrival</td>\n",
       "    </tr>\n",
       "    <tr>\n",
       "      <th>5</th>\n",
       "      <td>5.736127</td>\n",
       "      <td>Stops</td>\n",
       "    </tr>\n",
       "    <tr>\n",
       "      <th>6</th>\n",
       "      <td>5.743258</td>\n",
       "      <td>Day</td>\n",
       "    </tr>\n",
       "    <tr>\n",
       "      <th>7</th>\n",
       "      <td>2.044623</td>\n",
       "      <td>DOJ</td>\n",
       "    </tr>\n",
       "    <tr>\n",
       "      <th>8</th>\n",
       "      <td>4.345003</td>\n",
       "      <td>Duration_mnt</td>\n",
       "    </tr>\n",
       "  </tbody>\n",
       "</table>\n",
       "</div>"
      ],
      "text/plain": [
       "        vif      Features\n",
       "0  3.311617       Airline\n",
       "1  3.806811     Dept_City\n",
       "2  3.088463      Arr_City\n",
       "3  4.697100     Departure\n",
       "4  5.263618       Arrival\n",
       "5  5.736127         Stops\n",
       "6  5.743258           Day\n",
       "7  2.044623           DOJ\n",
       "8  4.345003  Duration_mnt"
      ]
     },
     "execution_count": 175,
     "metadata": {},
     "output_type": "execute_result"
    }
   ],
   "source": [
    "from statsmodels.stats.outliers_influence import variance_inflation_factor\n",
    "vif = pd.DataFrame()\n",
    "vif[\"vif\"] = [variance_inflation_factor(x.values,i)\n",
    "              for i in range(len(x.columns))]\n",
    "vif[\"Features\"] = x.columns\n",
    "vif"
   ]
  },
  {
   "cell_type": "markdown",
   "id": "445b5b3f",
   "metadata": {},
   "source": [
    "# Finding Best Random State"
   ]
  },
  {
   "cell_type": "code",
   "execution_count": 180,
   "id": "f19fcb5e",
   "metadata": {},
   "outputs": [
    {
     "name": "stdout",
     "output_type": "stream",
     "text": [
      "Maximum r2 score is  0.7199569324263427 at Random_state 157\n"
     ]
    }
   ],
   "source": [
    "from sklearn.model_selection import train_test_split\n",
    "from sklearn.metrics import mean_absolute_error\n",
    "from sklearn.metrics import mean_squared_error\n",
    "from sklearn.metrics import r2_score\n",
    "from sklearn.linear_model import LinearRegression\n",
    "\n",
    "from sklearn.ensemble import RandomForestRegressor\n",
    "maxAccu=0\n",
    "maxRS=0\n",
    "for i in range(1,200):\n",
    "    x_train,x_test,y_train,y_test = train_test_split(x,y,test_size=0.30,random_state=i)\n",
    "    mod = RandomForestRegressor()\n",
    "    mod.fit(x_train,y_train)\n",
    "    pred = mod.predict(x_test)\n",
    "    acc = r2_score(y_test,pred)\n",
    "    if acc>maxAccu:\n",
    "        maxAccu=acc\n",
    "        maxRS=i\n",
    "\n",
    "print(\"Maximum r2 score is \",maxAccu,\"at Random_state\",maxRS)\n"
   ]
  },
  {
   "cell_type": "code",
   "execution_count": 194,
   "id": "607908fb",
   "metadata": {},
   "outputs": [
    {
     "data": {
      "text/html": [
       "<div>\n",
       "<style scoped>\n",
       "    .dataframe tbody tr th:only-of-type {\n",
       "        vertical-align: middle;\n",
       "    }\n",
       "\n",
       "    .dataframe tbody tr th {\n",
       "        vertical-align: top;\n",
       "    }\n",
       "\n",
       "    .dataframe thead th {\n",
       "        text-align: right;\n",
       "    }\n",
       "</style>\n",
       "<table border=\"1\" class=\"dataframe\">\n",
       "  <thead>\n",
       "    <tr style=\"text-align: right;\">\n",
       "      <th></th>\n",
       "      <th>Airline</th>\n",
       "      <th>Dept_City</th>\n",
       "      <th>Arr_City</th>\n",
       "      <th>Departure</th>\n",
       "      <th>Arrival</th>\n",
       "      <th>Stops</th>\n",
       "      <th>Price</th>\n",
       "      <th>Day</th>\n",
       "      <th>DOJ</th>\n",
       "      <th>Duration_mnt</th>\n",
       "    </tr>\n",
       "  </thead>\n",
       "  <tbody>\n",
       "    <tr>\n",
       "      <th>0</th>\n",
       "      <td>4</td>\n",
       "      <td>3</td>\n",
       "      <td>2</td>\n",
       "      <td>4</td>\n",
       "      <td>1</td>\n",
       "      <td>1</td>\n",
       "      <td>7957</td>\n",
       "      <td>2</td>\n",
       "      <td>1</td>\n",
       "      <td>0.337209</td>\n",
       "    </tr>\n",
       "    <tr>\n",
       "      <th>1</th>\n",
       "      <td>6</td>\n",
       "      <td>3</td>\n",
       "      <td>2</td>\n",
       "      <td>2</td>\n",
       "      <td>2</td>\n",
       "      <td>0</td>\n",
       "      <td>7958</td>\n",
       "      <td>2</td>\n",
       "      <td>1</td>\n",
       "      <td>0.063953</td>\n",
       "    </tr>\n",
       "    <tr>\n",
       "      <th>2</th>\n",
       "      <td>6</td>\n",
       "      <td>3</td>\n",
       "      <td>2</td>\n",
       "      <td>5</td>\n",
       "      <td>6</td>\n",
       "      <td>0</td>\n",
       "      <td>7958</td>\n",
       "      <td>2</td>\n",
       "      <td>1</td>\n",
       "      <td>0.066860</td>\n",
       "    </tr>\n",
       "    <tr>\n",
       "      <th>3</th>\n",
       "      <td>6</td>\n",
       "      <td>3</td>\n",
       "      <td>2</td>\n",
       "      <td>5</td>\n",
       "      <td>1</td>\n",
       "      <td>1</td>\n",
       "      <td>7958</td>\n",
       "      <td>2</td>\n",
       "      <td>1</td>\n",
       "      <td>0.343023</td>\n",
       "    </tr>\n",
       "    <tr>\n",
       "      <th>4</th>\n",
       "      <td>6</td>\n",
       "      <td>3</td>\n",
       "      <td>2</td>\n",
       "      <td>5</td>\n",
       "      <td>2</td>\n",
       "      <td>1</td>\n",
       "      <td>7958</td>\n",
       "      <td>2</td>\n",
       "      <td>1</td>\n",
       "      <td>0.375000</td>\n",
       "    </tr>\n",
       "  </tbody>\n",
       "</table>\n",
       "</div>"
      ],
      "text/plain": [
       "   Airline  Dept_City  Arr_City  Departure  Arrival  Stops  Price  Day  DOJ  \\\n",
       "0        4          3         2          4        1      1   7957    2    1   \n",
       "1        6          3         2          2        2      0   7958    2    1   \n",
       "2        6          3         2          5        6      0   7958    2    1   \n",
       "3        6          3         2          5        1      1   7958    2    1   \n",
       "4        6          3         2          5        2      1   7958    2    1   \n",
       "\n",
       "   Duration_mnt  \n",
       "0      0.337209  \n",
       "1      0.063953  \n",
       "2      0.066860  \n",
       "3      0.343023  \n",
       "4      0.375000  "
      ]
     },
     "execution_count": 194,
     "metadata": {},
     "output_type": "execute_result"
    }
   ],
   "source": [
    "df.head()"
   ]
  },
  {
   "cell_type": "code",
   "execution_count": 182,
   "id": "6af690cd",
   "metadata": {},
   "outputs": [],
   "source": [
    "x_train,x_test,y_train,y_test=train_test_split(x,y,test_size=.30,random_state=157)"
   ]
  },
  {
   "cell_type": "code",
   "execution_count": 184,
   "id": "7e5c63d7",
   "metadata": {},
   "outputs": [
    {
     "name": "stdout",
     "output_type": "stream",
     "text": [
      "Collecting xgboost\n",
      "  Downloading xgboost-1.5.2-py3-none-win_amd64.whl (106.6 MB)\n",
      "Requirement already satisfied: numpy in c:\\programdata\\anaconda3\\lib\\site-packages (from xgboost) (1.21.2)\n",
      "Requirement already satisfied: scipy in c:\\programdata\\anaconda3\\lib\\site-packages (from xgboost) (1.7.1)\n",
      "Installing collected packages: xgboost\n",
      "Successfully installed xgboost-1.5.2\n"
     ]
    }
   ],
   "source": [
    "!pip install xgboost"
   ]
  },
  {
   "cell_type": "code",
   "execution_count": 185,
   "id": "b45c7f87",
   "metadata": {},
   "outputs": [],
   "source": [
    "#importing necessary libraries\n",
    "from sklearn.ensemble import RandomForestRegressor\n",
    "from sklearn.tree import DecisionTreeRegressor\n",
    "from sklearn.svm import SVR\n",
    "from sklearn.ensemble import ExtraTreesRegressor\n",
    "from sklearn.linear_model import LinearRegression\n",
    "from sklearn.neighbors import KNeighborsRegressor as KNN\n",
    "from sklearn.linear_model import SGDRegressor\n",
    "from xgboost import XGBRegressor\n",
    "from sklearn.metrics import classification_report\n",
    "from sklearn.ensemble import GradientBoostingRegressor\n",
    "from sklearn.model_selection import cross_val_score\n",
    "from sklearn.ensemble import BaggingRegressor\n",
    "from sklearn import metrics"
   ]
  },
  {
   "cell_type": "code",
   "execution_count": 186,
   "id": "aebf82ce",
   "metadata": {},
   "outputs": [
    {
     "name": "stdout",
     "output_type": "stream",
     "text": [
      "R2_score: 71.96322551222133\n",
      "mean_squared_error: 15100757.439772462\n",
      "mean_absolute_error: 2177.914209183674\n",
      "root_mean_squared_error: 3885.969305047643\n"
     ]
    }
   ],
   "source": [
    "RFR=RandomForestRegressor()\n",
    "RFR.fit(x_train,y_train)\n",
    "pred=RFR.predict(x_test)\n",
    "R2_score = r2_score(y_test,pred)*100\n",
    "print('R2_score:',R2_score)\n",
    "print('mean_squared_error:',metrics.mean_squared_error(y_test,pred))\n",
    "print('mean_absolute_error:',metrics.mean_absolute_error(y_test,pred))\n",
    "\n",
    "print('root_mean_squared_error:',np.sqrt(metrics.mean_squared_error(y_test,pred)))\n",
    "\n"
   ]
  },
  {
   "cell_type": "code",
   "execution_count": 187,
   "id": "f4737d30",
   "metadata": {},
   "outputs": [
    {
     "name": "stdout",
     "output_type": "stream",
     "text": [
      "R2_score: 66.89613048102056\n",
      "mean_squared_error: 17829922.059753727\n",
      "mean_absolute_error: 2559.754586420854\n",
      "root_mean_squared_error: 4222.54923710236\n"
     ]
    }
   ],
   "source": [
    "XGB=XGBRegressor()\n",
    "XGB.fit(x_train,y_train)\n",
    "pred=XGB.predict(x_test)\n",
    "R2_score = r2_score(y_test,pred)*100\n",
    "print('R2_score:',R2_score)\n",
    "print('mean_squared_error:',metrics.mean_squared_error(y_test,pred))\n",
    "print('mean_absolute_error:',metrics.mean_absolute_error(y_test,pred))\n",
    "\n",
    "print('root_mean_squared_error:',np.sqrt(metrics.mean_squared_error(y_test,pred)))\n",
    "\n"
   ]
  },
  {
   "cell_type": "code",
   "execution_count": 188,
   "id": "56ec6557",
   "metadata": {},
   "outputs": [
    {
     "name": "stdout",
     "output_type": "stream",
     "text": [
      "R2_score: 0.734032925886033\n",
      "mean_squared_error: 14325129.57191892\n",
      "mean_absolute_error: 1996.4487223402373\n",
      "root_mean_squared_error: 3784.855290750086\n"
     ]
    }
   ],
   "source": [
    "ETR=ExtraTreesRegressor()\n",
    "ETR.fit(x_train,y_train)\n",
    "pred=ETR.predict(x_test)\n",
    "print('R2_score:',r2_score(y_test,pred))\n",
    "print('mean_squared_error:',metrics.mean_squared_error(y_test,pred))\n",
    "print('mean_absolute_error:',metrics.mean_absolute_error(y_test,pred))\n",
    "print('root_mean_squared_error:',np.sqrt(metrics.mean_squared_error(y_test,pred)))\n",
    "\n"
   ]
  },
  {
   "cell_type": "code",
   "execution_count": 189,
   "id": "d44c77d7",
   "metadata": {},
   "outputs": [
    {
     "name": "stdout",
     "output_type": "stream",
     "text": [
      "R2_score: 0.5611305542628382\n",
      "mean_squared_error: 23637744.2444141\n",
      "mean_absolute_error: 3090.042222175053\n",
      "root_mean_squared_error: 4861.8663334581815\n"
     ]
    }
   ],
   "source": [
    "GBR=GradientBoostingRegressor()\n",
    "GBR.fit(x_train,y_train)\n",
    "pred=GBR.predict(x_test)\n",
    "print('R2_score:',r2_score(y_test,pred))\n",
    "print('mean_squared_error:',metrics.mean_squared_error(y_test,pred))\n",
    "print('mean_absolute_error:',metrics.mean_absolute_error(y_test,pred))\n",
    "print('root_mean_squared_error:',np.sqrt(\n",
    "\n",
    "metrics.mean_squared_error(y_test,pred)))\n",
    "\n"
   ]
  },
  {
   "cell_type": "code",
   "execution_count": 190,
   "id": "67e46b36",
   "metadata": {},
   "outputs": [
    {
     "name": "stdout",
     "output_type": "stream",
     "text": [
      "R2_score: 0.5920617406786514\n",
      "mean_squared_error: 21971773.918215614\n",
      "mean_absolute_error: 2273.9176845459374\n",
      "root_mean_squared_error: 4687.405883664825\n"
     ]
    }
   ],
   "source": [
    "DTR=DecisionTreeRegressor()\n",
    "DTR.fit(x_train,y_train)\n",
    "pred=DTR.predict(x_test)\n",
    "print('R2_score:',r2_score(y_test,pred))\n",
    "print('mean_squared_error:',metrics.mean_squared_error(y_test,pred))\n",
    "print('mean_absolute_error:',metrics.mean_absolute_error(y_test,pred))\n",
    "print('root_mean_squared_error:',np.sqrt(metrics.mean_squared_error(y_test,pred)))\n",
    "\n"
   ]
  },
  {
   "cell_type": "code",
   "execution_count": 191,
   "id": "08de84b2",
   "metadata": {},
   "outputs": [
    {
     "name": "stdout",
     "output_type": "stream",
     "text": [
      "R2_score: 0.359993866789711\n",
      "mean_squared_error: 34471074.34483271\n",
      "mean_absolute_error: 3709.2383430695695\n",
      "root_mean_squared_error: 5871.207230615583\n"
     ]
    }
   ],
   "source": [
    "knn=KNN()\n",
    "knn.fit(x_train,y_train)\n",
    "pred=knn.predict(x_test)\n",
    "print('R2_score:',r2_score(y_test,pred))\n",
    "print('mean_squared_error:',metrics.mean_squared_error(y_test,pred))\n",
    "print('mean_absolute_error:',metrics.mean_absolute_error(y_test,pred))\n",
    "print('root_mean_squared_error:',np.sqrt(metrics.mean_squared_error(y_test,pred)))\n",
    "\n"
   ]
  },
  {
   "cell_type": "code",
   "execution_count": 192,
   "id": "6f2f6e6c",
   "metadata": {},
   "outputs": [
    {
     "name": "stdout",
     "output_type": "stream",
     "text": [
      "R2_score: 0.6980755333903266\n",
      "mean_squared_error: 16261814.059219854\n",
      "mean_absolute_error: 2258.489473800673\n",
      "root_mean_squared_error: 4032.593961610796\n"
     ]
    }
   ],
   "source": [
    "BG=BaggingRegressor()\n",
    "BG.fit(x_train,y_train)\n",
    "pred=BG.predict(x_test)\n",
    "print('R2_score:',r2_score(y_test,pred))\n",
    "print('mean_squared_error:',metrics.mean_squared_error(y_test,pred))\n",
    "print('mean_absolute_error:',metrics.mean_absolute_error(y_test,pred))\n",
    "print('root_mean_squared_error:',np.sqrt(metrics.mean_squared_error(y_test,pred)))\n",
    "\n"
   ]
  },
  {
   "cell_type": "markdown",
   "id": "d6246383",
   "metadata": {},
   "source": [
    "\n",
    "\n",
    "By looking into the model r2_score and error I found ExtraTreesRegressor as the best model with highest r2_score and least errors.\n"
   ]
  },
  {
   "cell_type": "markdown",
   "id": "2ce43c9a",
   "metadata": {},
   "source": [
    "# Hyper Parameter Tuning:"
   ]
  },
  {
   "cell_type": "code",
   "execution_count": 195,
   "id": "682b8dd7",
   "metadata": {},
   "outputs": [],
   "source": [
    "#importing necessary libraries\n",
    "\n",
    "from sklearn.model_selection import GridSearchCV"
   ]
  },
  {
   "cell_type": "code",
   "execution_count": 196,
   "id": "ebc2775e",
   "metadata": {},
   "outputs": [],
   "source": [
    "parameter = {'max_features':['auto','sqrt','log2'],\n",
    "             'min_samples_split':[1,2,3,4],\n",
    "             'n_estimators':[20,40,60,80,100],\n",
    "             'min_samples_leaf':[1,2,3,4,5],\n",
    "              'n_jobs':[-2,-1,1,2]}"
   ]
  },
  {
   "cell_type": "code",
   "execution_count": 197,
   "id": "2ffb719d",
   "metadata": {},
   "outputs": [],
   "source": [
    "GCV=GridSearchCV(ExtraTreesRegressor(),parameter,cv=5)"
   ]
  },
  {
   "cell_type": "code",
   "execution_count": 199,
   "id": "1265c561",
   "metadata": {},
   "outputs": [
    {
     "data": {
      "text/plain": [
       "GridSearchCV(cv=5, estimator=ExtraTreesRegressor(),\n",
       "             param_grid={'max_features': ['auto', 'sqrt', 'log2'],\n",
       "                         'min_samples_leaf': [1, 2, 3, 4, 5],\n",
       "                         'min_samples_split': [1, 2, 3, 4],\n",
       "                         'n_estimators': [20, 40, 60, 80, 100],\n",
       "                         'n_jobs': [-2, -1, 1, 2]})"
      ]
     },
     "execution_count": 199,
     "metadata": {},
     "output_type": "execute_result"
    }
   ],
   "source": [
    "GCV.fit(x_train,y_train)"
   ]
  },
  {
   "cell_type": "code",
   "execution_count": 200,
   "id": "1bd9c529",
   "metadata": {},
   "outputs": [
    {
     "data": {
      "text/plain": [
       "{'max_features': 'auto',\n",
       " 'min_samples_leaf': 1,\n",
       " 'min_samples_split': 4,\n",
       " 'n_estimators': 40,\n",
       " 'n_jobs': 1}"
      ]
     },
     "execution_count": 200,
     "metadata": {},
     "output_type": "execute_result"
    }
   ],
   "source": [
    "GCV.best_params_"
   ]
  },
  {
   "cell_type": "code",
   "execution_count": 202,
   "id": "05a80d7d",
   "metadata": {},
   "outputs": [
    {
     "name": "stdout",
     "output_type": "stream",
     "text": [
      "R2_Score: 73.42835435582815\n",
      "mean_squared_error: 14311631.169381939\n",
      "mean_absolute_error: 2069.271180739954\n",
      "RMSE value: 3783.071657976087\n"
     ]
    }
   ],
   "source": [
    "final_mod=ExtraTreesRegressor(max_features='auto',min_samples_leaf=1,min_samples_split=4,n_estimators=40,n_jobs=1)\n",
    "final_mod.fit(x_train,y_train)\n",
    "pred=final_mod.predict(x_test)\n",
    "print('R2_Score:',r2_score(y_test,pred)*100)\n",
    "print('mean_squared_error:',metrics.mean_squared_error(y_test,pred))\n",
    "print('mean_absolute_error:',metrics.mean_absolute_error(y_test,pred))\n",
    "print(\"RMSE value:\",np.sqrt(metrics.mean_squared_error(y_test, pred)))"
   ]
  },
  {
   "cell_type": "markdown",
   "id": "0dbe0ad5",
   "metadata": {},
   "source": [
    "# Saving the model"
   ]
  },
  {
   "cell_type": "code",
   "execution_count": 204,
   "id": "748539f0",
   "metadata": {},
   "outputs": [
    {
     "data": {
      "text/plain": [
       "['Flight_Price.pkl']"
      ]
     },
     "execution_count": 204,
     "metadata": {},
     "output_type": "execute_result"
    }
   ],
   "source": [
    "# Saving the model using .pkl\n",
    "import joblib\n",
    "joblib.dump(final_mod,\"Flight_Price.pkl\")"
   ]
  },
  {
   "cell_type": "markdown",
   "id": "398f5b64",
   "metadata": {},
   "source": [
    "# Predicting the Flight price"
   ]
  },
  {
   "cell_type": "code",
   "execution_count": 206,
   "id": "0bcfcbae",
   "metadata": {},
   "outputs": [
    {
     "data": {
      "text/plain": [
       "array([ 9129.25833333,  7815.525     ,  9247.53333333, ...,\n",
       "       12815.90833333, 13920.34583333, 29533.20416667])"
      ]
     },
     "execution_count": 206,
     "metadata": {},
     "output_type": "execute_result"
    }
   ],
   "source": [
    "# Loading the saved model\n",
    "model=joblib.load(\"Flight_Price.pkl\")\n",
    "\n",
    "#Prediction\n",
    "prediction = model.predict(x_test)\n",
    "prediction"
   ]
  },
  {
   "cell_type": "code",
   "execution_count": 207,
   "id": "bf18f66c",
   "metadata": {},
   "outputs": [
    {
     "data": {
      "text/html": [
       "<div>\n",
       "<style scoped>\n",
       "    .dataframe tbody tr th:only-of-type {\n",
       "        vertical-align: middle;\n",
       "    }\n",
       "\n",
       "    .dataframe tbody tr th {\n",
       "        vertical-align: top;\n",
       "    }\n",
       "\n",
       "    .dataframe thead th {\n",
       "        text-align: right;\n",
       "    }\n",
       "</style>\n",
       "<table border=\"1\" class=\"dataframe\">\n",
       "  <thead>\n",
       "    <tr style=\"text-align: right;\">\n",
       "      <th></th>\n",
       "      <th>0</th>\n",
       "      <th>1</th>\n",
       "      <th>2</th>\n",
       "      <th>3</th>\n",
       "      <th>4</th>\n",
       "      <th>5</th>\n",
       "      <th>6</th>\n",
       "      <th>7</th>\n",
       "      <th>8</th>\n",
       "      <th>9</th>\n",
       "      <th>...</th>\n",
       "      <th>1873</th>\n",
       "      <th>1874</th>\n",
       "      <th>1875</th>\n",
       "      <th>1876</th>\n",
       "      <th>1877</th>\n",
       "      <th>1878</th>\n",
       "      <th>1879</th>\n",
       "      <th>1880</th>\n",
       "      <th>1881</th>\n",
       "      <th>1882</th>\n",
       "    </tr>\n",
       "  </thead>\n",
       "  <tbody>\n",
       "    <tr>\n",
       "      <th>Predicted</th>\n",
       "      <td>9129.258333</td>\n",
       "      <td>7815.525</td>\n",
       "      <td>9247.533333</td>\n",
       "      <td>25028.091667</td>\n",
       "      <td>14483.2625</td>\n",
       "      <td>19739.0</td>\n",
       "      <td>13103.0</td>\n",
       "      <td>12312.595833</td>\n",
       "      <td>8765.6125</td>\n",
       "      <td>6397.241667</td>\n",
       "      <td>...</td>\n",
       "      <td>10895.3125</td>\n",
       "      <td>7007.7875</td>\n",
       "      <td>12882.2125</td>\n",
       "      <td>36751.675</td>\n",
       "      <td>12763.941667</td>\n",
       "      <td>18517.141667</td>\n",
       "      <td>11558.579167</td>\n",
       "      <td>12815.908333</td>\n",
       "      <td>13920.345833</td>\n",
       "      <td>29533.204167</td>\n",
       "    </tr>\n",
       "    <tr>\n",
       "      <th>Actual</th>\n",
       "      <td>9429.000000</td>\n",
       "      <td>9557.000</td>\n",
       "      <td>6532.000000</td>\n",
       "      <td>41087.000000</td>\n",
       "      <td>10109.0000</td>\n",
       "      <td>19459.0</td>\n",
       "      <td>13103.0</td>\n",
       "      <td>6803.000000</td>\n",
       "      <td>13629.0000</td>\n",
       "      <td>5840.000000</td>\n",
       "      <td>...</td>\n",
       "      <td>12283.0000</td>\n",
       "      <td>6371.0000</td>\n",
       "      <td>13182.0000</td>\n",
       "      <td>40509.000</td>\n",
       "      <td>12781.000000</td>\n",
       "      <td>18798.000000</td>\n",
       "      <td>11448.000000</td>\n",
       "      <td>11488.000000</td>\n",
       "      <td>11479.000000</td>\n",
       "      <td>46421.000000</td>\n",
       "    </tr>\n",
       "  </tbody>\n",
       "</table>\n",
       "<p>2 rows × 1883 columns</p>\n",
       "</div>"
      ],
      "text/plain": [
       "                  0         1            2             3           4     \\\n",
       "Predicted  9129.258333  7815.525  9247.533333  25028.091667  14483.2625   \n",
       "Actual     9429.000000  9557.000  6532.000000  41087.000000  10109.0000   \n",
       "\n",
       "              5        6             7           8            9     ...  \\\n",
       "Predicted  19739.0  13103.0  12312.595833   8765.6125  6397.241667  ...   \n",
       "Actual     19459.0  13103.0   6803.000000  13629.0000  5840.000000  ...   \n",
       "\n",
       "                 1873       1874        1875       1876          1877  \\\n",
       "Predicted  10895.3125  7007.7875  12882.2125  36751.675  12763.941667   \n",
       "Actual     12283.0000  6371.0000  13182.0000  40509.000  12781.000000   \n",
       "\n",
       "                   1878          1879          1880          1881  \\\n",
       "Predicted  18517.141667  11558.579167  12815.908333  13920.345833   \n",
       "Actual     18798.000000  11448.000000  11488.000000  11479.000000   \n",
       "\n",
       "                   1882  \n",
       "Predicted  29533.204167  \n",
       "Actual     46421.000000  \n",
       "\n",
       "[2 rows x 1883 columns]"
      ]
     },
     "execution_count": 207,
     "metadata": {},
     "output_type": "execute_result"
    }
   ],
   "source": [
    "pd.DataFrame([model.predict(x_test)[:],y_test[:]],index=[\"Predicted\",\"Actual\"])"
   ]
  },
  {
   "cell_type": "code",
   "execution_count": 208,
   "id": "7f97b733",
   "metadata": {},
   "outputs": [
    {
     "data": {
      "image/png": "[encoded data removed]",
      "text/plain": [
       "<Figure size 720x360 with 1 Axes>"
      ]
     },
     "metadata": {
      "needs_background": "light"
     },
     "output_type": "display_data"
    }
   ],
   "source": [
    "plt.figure(figsize=(10,5))\n",
    "plt.scatter(y_test, prediction, c='crimson')\n",
    "p1 = max(max(prediction), max(y_test))\n",
    "p2 = min(min(prediction), min(y_test))\n",
    "plt.plot([p1, p2], [p1, p2], 'b-')\n",
    "plt.xlabel('Actual', fontsize=15)\n",
    "plt.ylabel('Predicted', fontsize=15)\n",
    "plt.title(\"ExtraTreesRegressor\")\n",
    "plt.show()"
   ]
  }
 ],
 "metadata": {
  "kernelspec": {
   "display_name": "Python 3 (ipykernel)",
   "language": "python",
   "name": "python3"
  },
  "language_info": {
   "codemirror_mode": {
    "name": "ipython",
    "version": 3
   },
   "file_extension": ".py",
   "mimetype": "text/x-python",
   "name": "python",
   "nbconvert_exporter": "python",
   "pygments_lexer": "ipython3",
   "version": "3.7.1"
  }
 },
 "nbformat": 4,
 "nbformat_minor": 5
}
